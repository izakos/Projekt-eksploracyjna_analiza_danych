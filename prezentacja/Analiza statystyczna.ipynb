{
 "cells": [
  {
   "cell_type": "markdown",
   "metadata": {
    "slideshow": {
     "slide_type": "skip"
    }
   },
   "source": [
    "# Import bibliotek"
   ]
  },
  {
   "cell_type": "code",
   "execution_count": 1,
   "metadata": {
    "slideshow": {
     "slide_type": "skip"
    }
   },
   "outputs": [],
   "source": [
    "import numpy as np\n",
    "import matplotlib.pyplot as plt\n",
    "from mpl_toolkits.mplot3d import axes3d\n",
    "import pandas as pd\n",
    "import scikit_posthocs as sp\n",
    "from scipy import stats\n",
    "from sklearn.decomposition import PCA\n",
    "from sklearn.ensemble import IsolationForest\n",
    "from sklearn.linear_model import LogisticRegression\n",
    "from sklearn.model_selection import train_test_split\n",
    "from sklearn.neighbors import KNeighborsClassifier\n",
    "from sklearn.preprocessing import StandardScaler\n",
    "import statsmodels.api as sa"
   ]
  },
  {
   "cell_type": "markdown",
   "metadata": {
    "slideshow": {
     "slide_type": "skip"
    }
   },
   "source": [
    "Ustawienie wielkości wykresów i biblioteki matplotlib."
   ]
  },
  {
   "cell_type": "code",
   "execution_count": 2,
   "metadata": {
    "slideshow": {
     "slide_type": "skip"
    }
   },
   "outputs": [],
   "source": [
    "%matplotlib inline\n",
    "plt.rcParams['figure.figsize'] = (20,10)"
   ]
  },
  {
   "cell_type": "code",
   "execution_count": 36,
   "metadata": {},
   "outputs": [],
   "source": [
    "import warnings\n",
    "warnings.filterwarnings('ignore')"
   ]
  },
  {
   "cell_type": "markdown",
   "metadata": {
    "slideshow": {
     "slide_type": "skip"
    }
   },
   "source": [
    "# Wczytanie danych"
   ]
  },
  {
   "cell_type": "code",
   "execution_count": 3,
   "metadata": {
    "slideshow": {
     "slide_type": "skip"
    }
   },
   "outputs": [
    {
     "data": {
      "text/html": [
       "<div>\n",
       "<style scoped>\n",
       "    .dataframe tbody tr th:only-of-type {\n",
       "        vertical-align: middle;\n",
       "    }\n",
       "\n",
       "    .dataframe tbody tr th {\n",
       "        vertical-align: top;\n",
       "    }\n",
       "\n",
       "    .dataframe thead th {\n",
       "        text-align: right;\n",
       "    }\n",
       "</style>\n",
       "<table border=\"1\" class=\"dataframe\">\n",
       "  <thead>\n",
       "    <tr style=\"text-align: right;\">\n",
       "      <th></th>\n",
       "      <th>city</th>\n",
       "      <th>date</th>\n",
       "      <th>year</th>\n",
       "      <th>month</th>\n",
       "      <th>day</th>\n",
       "      <th>high_temp</th>\n",
       "      <th>avg_temp</th>\n",
       "      <th>low_temp</th>\n",
       "      <th>high_dewpt</th>\n",
       "      <th>avg_dewpt</th>\n",
       "      <th>...</th>\n",
       "      <th>high_wind</th>\n",
       "      <th>avg_wind</th>\n",
       "      <th>max_wind_gust</th>\n",
       "      <th>precip</th>\n",
       "      <th>events</th>\n",
       "      <th>Rain</th>\n",
       "      <th>Fog</th>\n",
       "      <th>Thunderstorm</th>\n",
       "      <th>Snow</th>\n",
       "      <th>Hail</th>\n",
       "    </tr>\n",
       "  </thead>\n",
       "  <tbody>\n",
       "    <tr>\n",
       "      <th>0</th>\n",
       "      <td>Auckland</td>\n",
       "      <td>2016-01-01</td>\n",
       "      <td>2016</td>\n",
       "      <td>1</td>\n",
       "      <td>1</td>\n",
       "      <td>20.00</td>\n",
       "      <td>18.33</td>\n",
       "      <td>16.67</td>\n",
       "      <td>17.78</td>\n",
       "      <td>15.56</td>\n",
       "      <td>...</td>\n",
       "      <td>33.80</td>\n",
       "      <td>24.14</td>\n",
       "      <td>45.06</td>\n",
       "      <td>0.001</td>\n",
       "      <td>Rain</td>\n",
       "      <td>1.0</td>\n",
       "      <td>0.0</td>\n",
       "      <td>0.0</td>\n",
       "      <td>0.0</td>\n",
       "      <td>0.0</td>\n",
       "    </tr>\n",
       "    <tr>\n",
       "      <th>1</th>\n",
       "      <td>Auckland</td>\n",
       "      <td>2016-01-02</td>\n",
       "      <td>2016</td>\n",
       "      <td>1</td>\n",
       "      <td>2</td>\n",
       "      <td>20.00</td>\n",
       "      <td>18.89</td>\n",
       "      <td>17.78</td>\n",
       "      <td>17.78</td>\n",
       "      <td>17.22</td>\n",
       "      <td>...</td>\n",
       "      <td>53.11</td>\n",
       "      <td>33.80</td>\n",
       "      <td>74.03</td>\n",
       "      <td>0.001</td>\n",
       "      <td>Rain</td>\n",
       "      <td>1.0</td>\n",
       "      <td>0.0</td>\n",
       "      <td>0.0</td>\n",
       "      <td>0.0</td>\n",
       "      <td>0.0</td>\n",
       "    </tr>\n",
       "    <tr>\n",
       "      <th>2</th>\n",
       "      <td>Auckland</td>\n",
       "      <td>2016-01-03</td>\n",
       "      <td>2016</td>\n",
       "      <td>1</td>\n",
       "      <td>3</td>\n",
       "      <td>25.00</td>\n",
       "      <td>22.22</td>\n",
       "      <td>18.89</td>\n",
       "      <td>21.11</td>\n",
       "      <td>19.44</td>\n",
       "      <td>...</td>\n",
       "      <td>28.97</td>\n",
       "      <td>19.31</td>\n",
       "      <td>0.00</td>\n",
       "      <td>0.001</td>\n",
       "      <td>Rain</td>\n",
       "      <td>1.0</td>\n",
       "      <td>0.0</td>\n",
       "      <td>0.0</td>\n",
       "      <td>0.0</td>\n",
       "      <td>0.0</td>\n",
       "    </tr>\n",
       "    <tr>\n",
       "      <th>3</th>\n",
       "      <td>Auckland</td>\n",
       "      <td>2016-01-04</td>\n",
       "      <td>2016</td>\n",
       "      <td>1</td>\n",
       "      <td>4</td>\n",
       "      <td>22.78</td>\n",
       "      <td>18.89</td>\n",
       "      <td>15.56</td>\n",
       "      <td>18.89</td>\n",
       "      <td>15.56</td>\n",
       "      <td>...</td>\n",
       "      <td>24.14</td>\n",
       "      <td>16.09</td>\n",
       "      <td>0.00</td>\n",
       "      <td>0.001</td>\n",
       "      <td>Rain</td>\n",
       "      <td>1.0</td>\n",
       "      <td>0.0</td>\n",
       "      <td>0.0</td>\n",
       "      <td>0.0</td>\n",
       "      <td>0.0</td>\n",
       "    </tr>\n",
       "    <tr>\n",
       "      <th>4</th>\n",
       "      <td>Auckland</td>\n",
       "      <td>2016-01-05</td>\n",
       "      <td>2016</td>\n",
       "      <td>1</td>\n",
       "      <td>5</td>\n",
       "      <td>20.56</td>\n",
       "      <td>16.67</td>\n",
       "      <td>12.78</td>\n",
       "      <td>12.78</td>\n",
       "      <td>11.11</td>\n",
       "      <td>...</td>\n",
       "      <td>20.92</td>\n",
       "      <td>11.27</td>\n",
       "      <td>0.00</td>\n",
       "      <td>0.000</td>\n",
       "      <td>No event</td>\n",
       "      <td>0.0</td>\n",
       "      <td>0.0</td>\n",
       "      <td>0.0</td>\n",
       "      <td>0.0</td>\n",
       "      <td>0.0</td>\n",
       "    </tr>\n",
       "  </tbody>\n",
       "</table>\n",
       "<p>5 rows × 30 columns</p>\n",
       "</div>"
      ],
      "text/plain": [
       "       city        date  year  month  day  high_temp  avg_temp  low_temp  \\\n",
       "0  Auckland  2016-01-01  2016      1    1      20.00     18.33     16.67   \n",
       "1  Auckland  2016-01-02  2016      1    2      20.00     18.89     17.78   \n",
       "2  Auckland  2016-01-03  2016      1    3      25.00     22.22     18.89   \n",
       "3  Auckland  2016-01-04  2016      1    4      22.78     18.89     15.56   \n",
       "4  Auckland  2016-01-05  2016      1    5      20.56     16.67     12.78   \n",
       "\n",
       "   high_dewpt  avg_dewpt  ...   high_wind  avg_wind  max_wind_gust  precip  \\\n",
       "0       17.78      15.56  ...       33.80     24.14          45.06   0.001   \n",
       "1       17.78      17.22  ...       53.11     33.80          74.03   0.001   \n",
       "2       21.11      19.44  ...       28.97     19.31           0.00   0.001   \n",
       "3       18.89      15.56  ...       24.14     16.09           0.00   0.001   \n",
       "4       12.78      11.11  ...       20.92     11.27           0.00   0.000   \n",
       "\n",
       "     events  Rain  Fog  Thunderstorm  Snow  Hail  \n",
       "0      Rain   1.0  0.0           0.0   0.0   0.0  \n",
       "1      Rain   1.0  0.0           0.0   0.0   0.0  \n",
       "2      Rain   1.0  0.0           0.0   0.0   0.0  \n",
       "3      Rain   1.0  0.0           0.0   0.0   0.0  \n",
       "4  No event   0.0  0.0           0.0   0.0   0.0  \n",
       "\n",
       "[5 rows x 30 columns]"
      ]
     },
     "execution_count": 3,
     "metadata": {},
     "output_type": "execute_result"
    }
   ],
   "source": [
    "dane = pd.read_csv('../dane/dane.csv', sep=',')\n",
    "dane.head()"
   ]
  },
  {
   "cell_type": "markdown",
   "metadata": {
    "slideshow": {
     "slide_type": "slide"
    }
   },
   "source": [
    "# Testowanie normalności"
   ]
  },
  {
   "cell_type": "markdown",
   "metadata": {
    "slideshow": {
     "slide_type": "slide"
    }
   },
   "source": [
    "Sprawdźmy, czy nasze dane posiadają rozkład normalny (jest to założenie wielu testów statystycznych)."
   ]
  },
  {
   "cell_type": "markdown",
   "metadata": {
    "slideshow": {
     "slide_type": "-"
    }
   },
   "source": [
    "Na początek sprawdźmy, czy dane posiadają łączny rozkład normalny (wielowymiarowy rozkład normalny) za pomocą testu Shapiro-Wilka z biblioteki scipy. "
   ]
  },
  {
   "cell_type": "code",
   "execution_count": 37,
   "metadata": {
    "slideshow": {
     "slide_type": "-"
    }
   },
   "outputs": [
    {
     "data": {
      "text/plain": [
       "(0.4925263524055481, 0.0)"
      ]
     },
     "execution_count": 37,
     "metadata": {},
     "output_type": "execute_result"
    }
   ],
   "source": [
    "stats.shapiro(dane.iloc[:, 5:24])"
   ]
  },
  {
   "cell_type": "markdown",
   "metadata": {
    "slideshow": {
     "slide_type": "-"
    }
   },
   "source": [
    "Widzimy, iż p-wartość sugeruje odrzucenie hipotezy zerowej o rozkładzie normalnym."
   ]
  },
  {
   "cell_type": "markdown",
   "metadata": {
    "slideshow": {
     "slide_type": "slide"
    }
   },
   "source": [
    "Przetestujmy jeszcze rozkłady każdej z cech numerycznych z osobna."
   ]
  },
  {
   "cell_type": "code",
   "execution_count": 5,
   "metadata": {
    "slideshow": {
     "slide_type": "-"
    }
   },
   "outputs": [
    {
     "data": {
      "text/plain": [
       "NormaltestResult(statistic=array([ 292.12592276,  399.59916697,  409.14713036,  491.7977685 ,\n",
       "        441.66920408,  360.1714732 ,  807.54278587,  276.24096498,\n",
       "        408.23670958,  157.82616634,   91.43711575,   35.90021891,\n",
       "        299.31231084,   50.57097696,  663.4578652 , 3241.15546954,\n",
       "        776.65749775,  168.01790703, 6682.76244038]), pvalue=array([3.67842464e-064, 1.69099921e-087, 1.42833309e-089, 1.61239508e-107,\n",
       "       1.23808631e-096, 6.16251976e-079, 4.40871573e-176, 1.03522945e-060,\n",
       "       2.25177431e-089, 5.35159734e-035, 1.39534819e-020, 1.60090851e-008,\n",
       "       1.01194642e-065, 1.04388313e-011, 8.54978285e-145, 0.00000000e+000,\n",
       "       2.24371245e-169, 3.27623509e-037, 0.00000000e+000]))"
      ]
     },
     "execution_count": 5,
     "metadata": {},
     "output_type": "execute_result"
    }
   ],
   "source": [
    "stats.normaltest(dane.iloc[:, 5:24], axis=0, nan_policy='propagate')"
   ]
  },
  {
   "cell_type": "markdown",
   "metadata": {
    "slideshow": {
     "slide_type": "-"
    }
   },
   "source": [
    "Dla każdej z cech test sugeruje odrzucenie hipotezy o normalności rozkładu."
   ]
  },
  {
   "cell_type": "markdown",
   "metadata": {
    "slideshow": {
     "slide_type": "slide"
    }
   },
   "source": [
    "Poniżej jeszcze wyniki kilku innych testów normalności wykonanych za pomocą funkcji mvn z pakietu MVN środowiska R:"
   ]
  },
  {
   "cell_type": "raw",
   "metadata": {
    "slideshow": {
     "slide_type": "-"
    }
   },
   "source": [
    "multivariateNormality        \n",
    "\n",
    "Test                 Statistic            p-value     Result        \n",
    "1  Mardia  Skewness  240247.282856884        0          NO        \n",
    "2  Mardia  Kurtosis  684.105585224257        0          NO        \n",
    "3  MVN               <NA>                   <NA>        NO              \n",
    "4  Henze-Zirkler     4.397801                0          NO        \n",
    "5  Doornik-Hansen    39436.2538              0          NO        "
   ]
  },
  {
   "cell_type": "raw",
   "metadata": {
    "slideshow": {
     "slide_type": "slide"
    }
   },
   "source": [
    "univariateNormality \n",
    "\n",
    "Test                Variable     Statistic  p-value  Normality        \n",
    "1    Shapiro-Wilk   high_temp      0.9526    <0.001     NO        \n",
    "2    Shapiro-Wilk   avg_temp       0.9355    <0.001     NO        \n",
    "3    Shapiro-Wilk   low_temp       0.9348    <0.001     NO        \n",
    "4    Shapiro-Wilk   high_dewpt     0.9270    <0.001     NO        \n",
    "5    Shapiro-Wilk   avg_dewpt      0.9277    <0.001     NO        \n",
    "6    Shapiro-Wilk   low_dewpt      0.9358    <0.001     NO        \n",
    "7    Shapiro-Wilk   high_humidity  0.8881    <0.001     NO        \n",
    "8    Shapiro-Wilk   avg_humidity   0.9525    <0.001     NO        \n",
    "9    Shapiro-Wilk   low_humidity   0.9588    <0.001     NO                      "
   ]
  },
  {
   "cell_type": "raw",
   "metadata": {
    "slideshow": {
     "slide_type": "slide"
    }
   },
   "source": [
    "10  Shapiro-Wilk    high_hg        0.9826    <0.001     NO  \n",
    "11  Shapiro-Wilk    avg_hg         0.9908    <0.001     NO        \n",
    "12  Shapiro-Wilk    low_hg         0.9954    <0.001     NO        \n",
    "13  Shapiro-Wilk    high_vis       0.8732    <0.001     NO        \n",
    "14  Shapiro-Wilk    avg_vis        0.9165    <0.001     NO        \n",
    "15  Shapiro-Wilk    low_vis        0.8733    <0.001     NO        \n",
    "16  Shapiro-Wilk    high_wind      0.7971    <0.001     NO        \n",
    "17  Shapiro-Wilk    avg_wind       0.8941    <0.001     NO        \n",
    "18  Shapiro-Wilk    max_wind_gust  0.8779    <0.001     NO        \n",
    "19  Shapiro-Wilk    precip         0.1758    <0.001     NO"
   ]
  },
  {
   "cell_type": "markdown",
   "metadata": {
    "slideshow": {
     "slide_type": "slide"
    }
   },
   "source": [
    "Widać, że nie jest to wielowymiarowy normalny jak i każda zmienna indywidualnie też nie posiada tego rozkładu. Nie możemy więc zastosować testów opartych na rozkładzie normalnym dla szukania obserwacji odstających jak i dla porównania średnich (t-test, anova). Zastosujemy więc technikę isolation forest dla szukania obserwacji odstających oraz testy nieparametryczne na potrzeby dalszych analiz."
   ]
  },
  {
   "cell_type": "markdown",
   "metadata": {
    "slideshow": {
     "slide_type": "slide"
    }
   },
   "source": [
    "# Usuwanie obserwacji odstających"
   ]
  },
  {
   "cell_type": "markdown",
   "metadata": {
    "slideshow": {
     "slide_type": "-"
    }
   },
   "source": [
    "Zastosujemy technikę, która nie wymaga założenia konkretnego rozkładu - isolation forest."
   ]
  },
  {
   "cell_type": "markdown",
   "metadata": {
    "slideshow": {
     "slide_type": "slide"
    }
   },
   "source": [
    "## Inicjalizacja klasy i dopasowanie algorytmu"
   ]
  },
  {
   "cell_type": "code",
   "execution_count": 6,
   "metadata": {
    "slideshow": {
     "slide_type": "-"
    }
   },
   "outputs": [
    {
     "data": {
      "text/plain": [
       "IsolationForest(bootstrap=False, contamination=0.12, max_features=1.0,\n",
       "        max_samples='auto', n_estimators=100, n_jobs=-1, random_state=42,\n",
       "        verbose=0)"
      ]
     },
     "execution_count": 6,
     "metadata": {},
     "output_type": "execute_result"
    }
   ],
   "source": [
    "clf=IsolationForest(n_estimators=100, max_samples='auto', contamination=float(.12), \\\n",
    "                        max_features=1.0, bootstrap=False, n_jobs=-1, random_state=42, verbose=0)\n",
    "clf.fit(dane.iloc[:, 5:24])"
   ]
  },
  {
   "cell_type": "markdown",
   "metadata": {
    "slideshow": {
     "slide_type": "slide"
    }
   },
   "source": [
    "## Oznaczenie obserwacji odstających"
   ]
  },
  {
   "cell_type": "code",
   "execution_count": 7,
   "metadata": {
    "slideshow": {
     "slide_type": "-"
    }
   },
   "outputs": [],
   "source": [
    "pred = clf.predict(dane.iloc[:, 5:24])\n",
    "dane['anomaly'] = pred\n",
    "outliers = dane.loc[dane['anomaly'] == -1]\n",
    "outlier_index = list(outliers.index)"
   ]
  },
  {
   "cell_type": "markdown",
   "metadata": {
    "slideshow": {
     "slide_type": "slide"
    }
   },
   "source": [
    "Sprawdźmy ilość obserwacji odstających (oznaczone one są przez -1) oraz policzmy ich stosunek do całości zbioru."
   ]
  },
  {
   "cell_type": "code",
   "execution_count": 8,
   "metadata": {
    "slideshow": {
     "slide_type": "-"
    }
   },
   "outputs": [
    {
     "name": "stdout",
     "output_type": "stream",
     "text": [
      " 1    3216\n",
      "-1     439\n",
      "Name: anomaly, dtype: int64\n"
     ]
    },
    {
     "data": {
      "text/plain": [
       "0.120109439124487"
      ]
     },
     "execution_count": 8,
     "metadata": {},
     "output_type": "execute_result"
    }
   ],
   "source": [
    "count = dane['anomaly'].value_counts()\n",
    "print(count)\n",
    "count.tolist()[1]/sum(count.tolist())"
   ]
  },
  {
   "cell_type": "markdown",
   "metadata": {
    "slideshow": {
     "slide_type": "slide"
    }
   },
   "source": [
    "Widzimy, że stanowią one około 12 procent zbioru. Możemy usunąć takie obserwacje lub zastąpić ich wartość średnią wartością dla danego miasta i wydarzenia."
   ]
  },
  {
   "cell_type": "markdown",
   "metadata": {
    "slideshow": {
     "slide_type": "-"
    }
   },
   "source": [
    "Możemy to zrobić np. w następujący sposób:"
   ]
  },
  {
   "cell_type": "code",
   "execution_count": 9,
   "metadata": {
    "slideshow": {
     "slide_type": "-"
    }
   },
   "outputs": [
    {
     "data": {
      "text/plain": [
       "(3216, 31)"
      ]
     },
     "execution_count": 9,
     "metadata": {},
     "output_type": "execute_result"
    }
   ],
   "source": [
    "dane2 = dane[dane.anomaly != -1]\n",
    "dane2.shape"
   ]
  },
  {
   "cell_type": "markdown",
   "metadata": {
    "slideshow": {
     "slide_type": "slide"
    }
   },
   "source": [
    "Porównajmy dane bez obs. odstających do wszystkich danych (czy np nie wskazano konkretnego miasta czy wydarzenia jako dane do usunięcia z powodu ich odmienności)."
   ]
  },
  {
   "cell_type": "code",
   "execution_count": 10,
   "metadata": {
    "slideshow": {
     "slide_type": "slide"
    }
   },
   "outputs": [
    {
     "name": "stdout",
     "output_type": "stream",
     "text": [
      "San Diego    731\n",
      "Beijing      731\n",
      "Chicago      731\n",
      "Auckland     731\n",
      "Mumbai       731\n",
      "Name: city, dtype: int64\n",
      "Auckland     731\n",
      "San Diego    720\n",
      "Mumbai       692\n",
      "Chicago      611\n",
      "Beijing      462\n",
      "Name: city, dtype: int64\n"
     ]
    }
   ],
   "source": [
    "print(dane.city.value_counts())\n",
    "print(dane2.city.value_counts())"
   ]
  },
  {
   "cell_type": "markdown",
   "metadata": {
    "slideshow": {
     "slide_type": "slide"
    }
   },
   "source": [
    "Możemy zauważyć, że większość usuniętych obserwacji pochodzi z miasta Pekin, czego można było się spodziewać patrząc na wykresy typu boxplot. Wszystkie z miast zostały zachowane, co umożliwia dalszą analizę."
   ]
  },
  {
   "cell_type": "code",
   "execution_count": 11,
   "metadata": {
    "slideshow": {
     "slide_type": "slide"
    }
   },
   "outputs": [
    {
     "name": "stdout",
     "output_type": "stream",
     "text": [
      "No event                      2217\n",
      "Rain                           910\n",
      "Rain , Thunderstorm            229\n",
      "Fog                            115\n",
      "Snow                            66\n",
      "Fog , Rain                      44\n",
      "Thunderstorm                    18\n",
      "Rain , Snow                     15\n",
      "Fog , Snow                      12\n",
      "Fog , Rain , Thunderstorm       10\n",
      "Rain , Hail                      7\n",
      "Fog , Rain , Snow                5\n",
      "Rain , Hail , Thunderstorm       5\n",
      "Fog , Snow , Thunderstorm        1\n",
      "Fog , Thunderstorm               1\n",
      "Name: events, dtype: int64\n",
      "Ilość typów wydarzeń oryginalnie: 15\n"
     ]
    }
   ],
   "source": [
    "print(dane.events.value_counts())\n",
    "print('Ilość typów wydarzeń oryginalnie:', dane.events.value_counts().shape[0])"
   ]
  },
  {
   "cell_type": "code",
   "execution_count": 12,
   "metadata": {
    "slideshow": {
     "slide_type": "slide"
    }
   },
   "outputs": [
    {
     "name": "stdout",
     "output_type": "stream",
     "text": [
      "No event                      1937\n",
      "Rain                           870\n",
      "Rain , Thunderstorm            200\n",
      "Fog                            106\n",
      "Fog , Rain                      41\n",
      "Thunderstorm                    17\n",
      "Snow                            16\n",
      "Fog , Rain , Thunderstorm        8\n",
      "Rain , Hail                      7\n",
      "Rain , Snow                      6\n",
      "Rain , Hail , Thunderstorm       4\n",
      "Fog , Rain , Snow                3\n",
      "Fog , Thunderstorm               1\n",
      "Name: events, dtype: int64\n",
      "Ilość typów wydarzeń po usunięciu: 13\n"
     ]
    }
   ],
   "source": [
    "print(dane2.events.value_counts())\n",
    "print('Ilość typów wydarzeń po usunięciu:', dane2.events.value_counts().shape[0])"
   ]
  },
  {
   "cell_type": "markdown",
   "metadata": {
    "slideshow": {
     "slide_type": "slide"
    }
   },
   "source": [
    "Widzimy, że najwięcej obserwacji usunięto z wydarzenia z opadami śniegu, czego można było się spodziewać patrząc na występujące wtedy niskie temperatury a ogólnie wysokie średnie temperatur i wysokie wartości pierwszego kwartyla dla temperatur. Usunięto kilka kategorii, co dla analiz dla wydarzeń nie jest korzystne."
   ]
  },
  {
   "cell_type": "markdown",
   "metadata": {
    "slideshow": {
     "slide_type": "slide"
    }
   },
   "source": [
    "Zilustrujmy teraz wykryty podział na obserwacje \"poprawne\" i obserwacje odstające rzutując zmienne do 3 wymiarów."
   ]
  },
  {
   "cell_type": "code",
   "execution_count": 13,
   "metadata": {
    "slideshow": {
     "slide_type": "-"
    }
   },
   "outputs": [],
   "source": [
    "pca = PCA(n_components=3)  \n",
    "scaler = StandardScaler()\n",
    "X = scaler.fit_transform(dane.iloc[:, 5:24])\n",
    "X_reduce = pca.fit_transform(X)\n",
    "plt.rcParams['figure.figsize']=(20,6)"
   ]
  },
  {
   "cell_type": "code",
   "execution_count": 14,
   "metadata": {
    "slideshow": {
     "slide_type": "slide"
    }
   },
   "outputs": [
    {
     "data": {
      "image/png": "[encoded data removed]",
      "text/plain": [
       "<Figure size 1440x432 with 1 Axes>"
      ]
     },
     "metadata": {},
     "output_type": "display_data"
    },
    {
     "data": {
      "text/plain": [
       "(<matplotlib.legend.Legend at 0x203134ff898>, None)"
      ]
     },
     "execution_count": 14,
     "metadata": {},
     "output_type": "execute_result"
    }
   ],
   "source": [
    "fig = plt.figure()\n",
    "ax = fig.add_subplot(111, projection='3d')\n",
    "ax.set_xlabel(\"PCA1\"), ax.set_ylabel(\"PCA2\"), ax.set_zlabel(\"PCA3\")\n",
    "ax.scatter(X_reduce[:, 0], X_reduce[:, 1], zs=X_reduce[:, 2], s=4, lw=1, label=\"obs. poprawne\",c=\"green\")\n",
    "ax.scatter(X_reduce[outlier_index, 0],X_reduce[outlier_index, 1], X_reduce[outlier_index, 2],\n",
    "           lw=2, s=60, marker=\"x\", c=\"red\", label=\"obs. odstające\")\n",
    "ax.legend(), plt.show()"
   ]
  },
  {
   "cell_type": "markdown",
   "metadata": {
    "slideshow": {
     "slide_type": "-"
    }
   },
   "source": [
    "Widzimy faktyczne odstawanie obserwacji odstających."
   ]
  },
  {
   "cell_type": "markdown",
   "metadata": {
    "slideshow": {
     "slide_type": "slide"
    }
   },
   "source": [
    "# Porównanie różnic w medianach między grupami dla średniej temperatury"
   ]
  },
  {
   "cell_type": "markdown",
   "metadata": {
    "slideshow": {
     "slide_type": "-"
    }
   },
   "source": [
    "Chcemy sprawdzić, czy sensowne jest rozróżnianie danych dla różnych kategorii - czy ich mediany (test nieparametryczny ze względu na brak normaności danych) są statycznie różne. Zastosujemy test Kruskala-Wallisa (mamy wiele grup o rozkładzie nieznanym, innym niż normalny). Zrobimy to przykładowo dla temperatur występujących w różnych miastach i przy różnych wydarzeniach. Sprawdzimy, które kategorie są istotnie różne za pomocą testów post-hoc (oczywiście nieparametrycznych)."
   ]
  },
  {
   "cell_type": "markdown",
   "metadata": {
    "slideshow": {
     "slide_type": "slide"
    }
   },
   "source": [
    "## Test dla miast"
   ]
  },
  {
   "cell_type": "code",
   "execution_count": 15,
   "metadata": {
    "slideshow": {
     "slide_type": "-"
    }
   },
   "outputs": [
    {
     "data": {
      "text/plain": [
       "KruskalResult(statistic=1597.3916679433844, pvalue=0.0)"
      ]
     },
     "execution_count": 15,
     "metadata": {},
     "output_type": "execute_result"
    }
   ],
   "source": [
    "y = []\n",
    "for ids, city in enumerate(pd.unique(dane.city)):\n",
    "    y.append(dane[dane.city == city].iloc[:, 5:24].avg_temp)\n",
    "\n",
    "stats.kruskal(*y)"
   ]
  },
  {
   "cell_type": "markdown",
   "metadata": {
    "slideshow": {
     "slide_type": "-"
    }
   },
   "source": [
    "Widzimy, że test sugeruje odrzucenie hipotezy zerowej o braku różnic miedzy miastami na każdym sensownym poziomie istotności."
   ]
  },
  {
   "cell_type": "markdown",
   "metadata": {
    "slideshow": {
     "slide_type": "slide"
    }
   },
   "source": [
    "## Test dla wydarzeń"
   ]
  },
  {
   "cell_type": "code",
   "execution_count": 16,
   "metadata": {
    "slideshow": {
     "slide_type": "-"
    }
   },
   "outputs": [
    {
     "data": {
      "text/plain": [
       "KruskalResult(statistic=433.44398792519627, pvalue=1.1195779869362076e-83)"
      ]
     },
     "execution_count": 16,
     "metadata": {},
     "output_type": "execute_result"
    }
   ],
   "source": [
    "y = []\n",
    "for ids, event in enumerate(pd.unique(dane.events)):\n",
    "    y.append(dane[dane.events == event].iloc[:, 5:24].avg_temp)\n",
    "\n",
    "stats.kruskal(*y)"
   ]
  },
  {
   "cell_type": "markdown",
   "metadata": {
    "slideshow": {
     "slide_type": "-"
    }
   },
   "source": [
    "Podobnie dla róznych wydarzeń widzimy, że test sugeruje odrzucenie hipotezy zerowej o braku różnic miedzy wydarzeniami na każdym sensownym poziomie istotności."
   ]
  },
  {
   "cell_type": "markdown",
   "metadata": {
    "slideshow": {
     "slide_type": "slide"
    }
   },
   "source": [
    "## Testy post-hoc dla wydarzeń"
   ]
  },
  {
   "cell_type": "markdown",
   "metadata": {
    "slideshow": {
     "slide_type": "-"
    }
   },
   "source": [
    "Przykładowo użyjemy testu Conover'a."
   ]
  },
  {
   "cell_type": "code",
   "execution_count": 17,
   "metadata": {
    "slideshow": {
     "slide_type": "slide"
    }
   },
   "outputs": [
    {
     "data": {
      "text/html": [
       "<div>\n",
       "<style scoped>\n",
       "    .dataframe tbody tr th:only-of-type {\n",
       "        vertical-align: middle;\n",
       "    }\n",
       "\n",
       "    .dataframe tbody tr th {\n",
       "        vertical-align: top;\n",
       "    }\n",
       "\n",
       "    .dataframe thead th {\n",
       "        text-align: right;\n",
       "    }\n",
       "</style>\n",
       "<table border=\"1\" class=\"dataframe\">\n",
       "  <thead>\n",
       "    <tr style=\"text-align: right;\">\n",
       "      <th></th>\n",
       "      <th>1</th>\n",
       "      <th>2</th>\n",
       "      <th>3</th>\n",
       "      <th>4</th>\n",
       "      <th>5</th>\n",
       "      <th>6</th>\n",
       "      <th>7</th>\n",
       "      <th>8</th>\n",
       "      <th>9</th>\n",
       "      <th>10</th>\n",
       "      <th>11</th>\n",
       "      <th>12</th>\n",
       "      <th>13</th>\n",
       "      <th>14</th>\n",
       "      <th>15</th>\n",
       "    </tr>\n",
       "  </thead>\n",
       "  <tbody>\n",
       "    <tr>\n",
       "      <th>1</th>\n",
       "      <td>-1.000000e+00</td>\n",
       "      <td>5.009844e-03</td>\n",
       "      <td>0.366873</td>\n",
       "      <td>1.800622e-08</td>\n",
       "      <td>4.614838e-20</td>\n",
       "      <td>0.377633</td>\n",
       "      <td>5.519862e-07</td>\n",
       "      <td>2.069811e-07</td>\n",
       "      <td>4.068301e-03</td>\n",
       "      <td>1.902930e-38</td>\n",
       "      <td>1.673971e-08</td>\n",
       "      <td>0.328202</td>\n",
       "      <td>1.692710e-08</td>\n",
       "      <td>7.482139e-04</td>\n",
       "      <td>0.086722</td>\n",
       "    </tr>\n",
       "    <tr>\n",
       "      <th>2</th>\n",
       "      <td>5.009844e-03</td>\n",
       "      <td>-1.000000e+00</td>\n",
       "      <td>0.209857</td>\n",
       "      <td>1.288242e-10</td>\n",
       "      <td>2.484021e-16</td>\n",
       "      <td>0.239510</td>\n",
       "      <td>2.468223e-10</td>\n",
       "      <td>1.954548e-06</td>\n",
       "      <td>8.515290e-03</td>\n",
       "      <td>5.179963e-45</td>\n",
       "      <td>1.105187e-09</td>\n",
       "      <td>0.385637</td>\n",
       "      <td>1.525107e-09</td>\n",
       "      <td>2.912086e-04</td>\n",
       "      <td>0.068159</td>\n",
       "    </tr>\n",
       "    <tr>\n",
       "      <th>3</th>\n",
       "      <td>3.668732e-01</td>\n",
       "      <td>2.098569e-01</td>\n",
       "      <td>-1.000000</td>\n",
       "      <td>9.555972e-02</td>\n",
       "      <td>2.720998e-03</td>\n",
       "      <td>0.922670</td>\n",
       "      <td>5.251734e-01</td>\n",
       "      <td>1.118798e-04</td>\n",
       "      <td>4.032174e-03</td>\n",
       "      <td>4.552416e-05</td>\n",
       "      <td>3.714571e-03</td>\n",
       "      <td>0.227715</td>\n",
       "      <td>1.555623e-03</td>\n",
       "      <td>2.523943e-02</td>\n",
       "      <td>0.173605</td>\n",
       "    </tr>\n",
       "    <tr>\n",
       "      <th>4</th>\n",
       "      <td>1.800622e-08</td>\n",
       "      <td>1.288242e-10</td>\n",
       "      <td>0.095560</td>\n",
       "      <td>-1.000000e+00</td>\n",
       "      <td>6.720244e-21</td>\n",
       "      <td>0.187668</td>\n",
       "      <td>3.466909e-02</td>\n",
       "      <td>5.931116e-14</td>\n",
       "      <td>4.872138e-06</td>\n",
       "      <td>3.923590e-05</td>\n",
       "      <td>4.441856e-02</td>\n",
       "      <td>0.067518</td>\n",
       "      <td>1.785274e-02</td>\n",
       "      <td>1.737441e-01</td>\n",
       "      <td>0.404380</td>\n",
       "    </tr>\n",
       "    <tr>\n",
       "      <th>5</th>\n",
       "      <td>4.614838e-20</td>\n",
       "      <td>2.484021e-16</td>\n",
       "      <td>0.002721</td>\n",
       "      <td>6.720244e-21</td>\n",
       "      <td>-1.000000e+00</td>\n",
       "      <td>0.008077</td>\n",
       "      <td>1.351242e-24</td>\n",
       "      <td>2.311307e-02</td>\n",
       "      <td>1.794608e-01</td>\n",
       "      <td>2.031126e-61</td>\n",
       "      <td>8.504046e-16</td>\n",
       "      <td>0.767520</td>\n",
       "      <td>5.405420e-15</td>\n",
       "      <td>1.248531e-06</td>\n",
       "      <td>0.016841</td>\n",
       "    </tr>\n",
       "    <tr>\n",
       "      <th>6</th>\n",
       "      <td>3.776326e-01</td>\n",
       "      <td>2.395102e-01</td>\n",
       "      <td>0.922670</td>\n",
       "      <td>1.876680e-01</td>\n",
       "      <td>8.077060e-03</td>\n",
       "      <td>-1.000000</td>\n",
       "      <td>6.779718e-01</td>\n",
       "      <td>4.178151e-04</td>\n",
       "      <td>5.576926e-03</td>\n",
       "      <td>7.741073e-04</td>\n",
       "      <td>1.300338e-02</td>\n",
       "      <td>0.219382</td>\n",
       "      <td>5.985652e-03</td>\n",
       "      <td>4.425606e-02</td>\n",
       "      <td>0.196971</td>\n",
       "    </tr>\n",
       "    <tr>\n",
       "      <th>7</th>\n",
       "      <td>5.519862e-07</td>\n",
       "      <td>2.468223e-10</td>\n",
       "      <td>0.525173</td>\n",
       "      <td>3.466909e-02</td>\n",
       "      <td>1.351242e-24</td>\n",
       "      <td>0.677972</td>\n",
       "      <td>-1.000000e+00</td>\n",
       "      <td>8.984522e-12</td>\n",
       "      <td>9.453826e-05</td>\n",
       "      <td>3.359664e-14</td>\n",
       "      <td>3.836068e-04</td>\n",
       "      <td>0.142058</td>\n",
       "      <td>1.601866e-04</td>\n",
       "      <td>2.611280e-02</td>\n",
       "      <td>0.225345</td>\n",
       "    </tr>\n",
       "    <tr>\n",
       "      <th>8</th>\n",
       "      <td>2.069811e-07</td>\n",
       "      <td>1.954548e-06</td>\n",
       "      <td>0.000112</td>\n",
       "      <td>5.931116e-14</td>\n",
       "      <td>2.311307e-02</td>\n",
       "      <td>0.000418</td>\n",
       "      <td>8.984522e-12</td>\n",
       "      <td>-1.000000e+00</td>\n",
       "      <td>9.201326e-01</td>\n",
       "      <td>1.847373e-27</td>\n",
       "      <td>1.152333e-14</td>\n",
       "      <td>0.800228</td>\n",
       "      <td>1.371154e-14</td>\n",
       "      <td>5.588543e-08</td>\n",
       "      <td>0.004076</td>\n",
       "    </tr>\n",
       "    <tr>\n",
       "      <th>9</th>\n",
       "      <td>4.068301e-03</td>\n",
       "      <td>8.515290e-03</td>\n",
       "      <td>0.004032</td>\n",
       "      <td>4.872138e-06</td>\n",
       "      <td>1.794608e-01</td>\n",
       "      <td>0.005577</td>\n",
       "      <td>9.453826e-05</td>\n",
       "      <td>9.201326e-01</td>\n",
       "      <td>-1.000000e+00</td>\n",
       "      <td>1.937246e-10</td>\n",
       "      <td>9.477831e-08</td>\n",
       "      <td>0.776714</td>\n",
       "      <td>3.880323e-08</td>\n",
       "      <td>9.670225e-06</td>\n",
       "      <td>0.006141</td>\n",
       "    </tr>\n",
       "    <tr>\n",
       "      <th>10</th>\n",
       "      <td>1.902930e-38</td>\n",
       "      <td>5.179963e-45</td>\n",
       "      <td>0.000046</td>\n",
       "      <td>3.923590e-05</td>\n",
       "      <td>2.031126e-61</td>\n",
       "      <td>0.000774</td>\n",
       "      <td>3.359664e-14</td>\n",
       "      <td>1.847373e-27</td>\n",
       "      <td>1.937246e-10</td>\n",
       "      <td>-1.000000e+00</td>\n",
       "      <td>4.843385e-01</td>\n",
       "      <td>0.008553</td>\n",
       "      <td>9.250639e-01</td>\n",
       "      <td>7.314905e-01</td>\n",
       "      <td>0.966693</td>\n",
       "    </tr>\n",
       "    <tr>\n",
       "      <th>11</th>\n",
       "      <td>1.673971e-08</td>\n",
       "      <td>1.105187e-09</td>\n",
       "      <td>0.003715</td>\n",
       "      <td>4.441856e-02</td>\n",
       "      <td>8.504046e-16</td>\n",
       "      <td>0.013003</td>\n",
       "      <td>3.836068e-04</td>\n",
       "      <td>1.152333e-14</td>\n",
       "      <td>9.477831e-08</td>\n",
       "      <td>4.843385e-01</td>\n",
       "      <td>-1.000000e+00</td>\n",
       "      <td>0.017705</td>\n",
       "      <td>6.597225e-01</td>\n",
       "      <td>9.369038e-01</td>\n",
       "      <td>0.814653</td>\n",
       "    </tr>\n",
       "    <tr>\n",
       "      <th>12</th>\n",
       "      <td>3.282018e-01</td>\n",
       "      <td>3.856371e-01</td>\n",
       "      <td>0.227715</td>\n",
       "      <td>6.751808e-02</td>\n",
       "      <td>7.675204e-01</td>\n",
       "      <td>0.219382</td>\n",
       "      <td>1.420580e-01</td>\n",
       "      <td>8.002283e-01</td>\n",
       "      <td>7.767138e-01</td>\n",
       "      <td>8.553478e-03</td>\n",
       "      <td>1.770491e-02</td>\n",
       "      <td>-1.000000</td>\n",
       "      <td>1.183354e-02</td>\n",
       "      <td>2.299817e-02</td>\n",
       "      <td>0.056980</td>\n",
       "    </tr>\n",
       "    <tr>\n",
       "      <th>13</th>\n",
       "      <td>1.692710e-08</td>\n",
       "      <td>1.525107e-09</td>\n",
       "      <td>0.001556</td>\n",
       "      <td>1.785274e-02</td>\n",
       "      <td>5.405420e-15</td>\n",
       "      <td>0.005986</td>\n",
       "      <td>1.601866e-04</td>\n",
       "      <td>1.371154e-14</td>\n",
       "      <td>3.880323e-08</td>\n",
       "      <td>9.250639e-01</td>\n",
       "      <td>6.597225e-01</td>\n",
       "      <td>0.011834</td>\n",
       "      <td>-1.000000e+00</td>\n",
       "      <td>8.075658e-01</td>\n",
       "      <td>0.945165</td>\n",
       "    </tr>\n",
       "    <tr>\n",
       "      <th>14</th>\n",
       "      <td>7.482139e-04</td>\n",
       "      <td>2.912086e-04</td>\n",
       "      <td>0.025239</td>\n",
       "      <td>1.737441e-01</td>\n",
       "      <td>1.248531e-06</td>\n",
       "      <td>0.044256</td>\n",
       "      <td>2.611280e-02</td>\n",
       "      <td>5.588543e-08</td>\n",
       "      <td>9.670225e-06</td>\n",
       "      <td>7.314905e-01</td>\n",
       "      <td>9.369038e-01</td>\n",
       "      <td>0.022998</td>\n",
       "      <td>8.075658e-01</td>\n",
       "      <td>-1.000000e+00</td>\n",
       "      <td>0.854246</td>\n",
       "    </tr>\n",
       "    <tr>\n",
       "      <th>15</th>\n",
       "      <td>8.672201e-02</td>\n",
       "      <td>6.815916e-02</td>\n",
       "      <td>0.173605</td>\n",
       "      <td>4.043804e-01</td>\n",
       "      <td>1.684109e-02</td>\n",
       "      <td>0.196971</td>\n",
       "      <td>2.253450e-01</td>\n",
       "      <td>4.076403e-03</td>\n",
       "      <td>6.140770e-03</td>\n",
       "      <td>9.666929e-01</td>\n",
       "      <td>8.146527e-01</td>\n",
       "      <td>0.056980</td>\n",
       "      <td>9.451645e-01</td>\n",
       "      <td>8.542458e-01</td>\n",
       "      <td>-1.000000</td>\n",
       "    </tr>\n",
       "  </tbody>\n",
       "</table>\n",
       "</div>"
      ],
      "text/plain": [
       "              1             2         3             4             5   \\\n",
       "1  -1.000000e+00  5.009844e-03  0.366873  1.800622e-08  4.614838e-20   \n",
       "2   5.009844e-03 -1.000000e+00  0.209857  1.288242e-10  2.484021e-16   \n",
       "3   3.668732e-01  2.098569e-01 -1.000000  9.555972e-02  2.720998e-03   \n",
       "4   1.800622e-08  1.288242e-10  0.095560 -1.000000e+00  6.720244e-21   \n",
       "5   4.614838e-20  2.484021e-16  0.002721  6.720244e-21 -1.000000e+00   \n",
       "6   3.776326e-01  2.395102e-01  0.922670  1.876680e-01  8.077060e-03   \n",
       "7   5.519862e-07  2.468223e-10  0.525173  3.466909e-02  1.351242e-24   \n",
       "8   2.069811e-07  1.954548e-06  0.000112  5.931116e-14  2.311307e-02   \n",
       "9   4.068301e-03  8.515290e-03  0.004032  4.872138e-06  1.794608e-01   \n",
       "10  1.902930e-38  5.179963e-45  0.000046  3.923590e-05  2.031126e-61   \n",
       "11  1.673971e-08  1.105187e-09  0.003715  4.441856e-02  8.504046e-16   \n",
       "12  3.282018e-01  3.856371e-01  0.227715  6.751808e-02  7.675204e-01   \n",
       "13  1.692710e-08  1.525107e-09  0.001556  1.785274e-02  5.405420e-15   \n",
       "14  7.482139e-04  2.912086e-04  0.025239  1.737441e-01  1.248531e-06   \n",
       "15  8.672201e-02  6.815916e-02  0.173605  4.043804e-01  1.684109e-02   \n",
       "\n",
       "          6             7             8             9             10  \\\n",
       "1   0.377633  5.519862e-07  2.069811e-07  4.068301e-03  1.902930e-38   \n",
       "2   0.239510  2.468223e-10  1.954548e-06  8.515290e-03  5.179963e-45   \n",
       "3   0.922670  5.251734e-01  1.118798e-04  4.032174e-03  4.552416e-05   \n",
       "4   0.187668  3.466909e-02  5.931116e-14  4.872138e-06  3.923590e-05   \n",
       "5   0.008077  1.351242e-24  2.311307e-02  1.794608e-01  2.031126e-61   \n",
       "6  -1.000000  6.779718e-01  4.178151e-04  5.576926e-03  7.741073e-04   \n",
       "7   0.677972 -1.000000e+00  8.984522e-12  9.453826e-05  3.359664e-14   \n",
       "8   0.000418  8.984522e-12 -1.000000e+00  9.201326e-01  1.847373e-27   \n",
       "9   0.005577  9.453826e-05  9.201326e-01 -1.000000e+00  1.937246e-10   \n",
       "10  0.000774  3.359664e-14  1.847373e-27  1.937246e-10 -1.000000e+00   \n",
       "11  0.013003  3.836068e-04  1.152333e-14  9.477831e-08  4.843385e-01   \n",
       "12  0.219382  1.420580e-01  8.002283e-01  7.767138e-01  8.553478e-03   \n",
       "13  0.005986  1.601866e-04  1.371154e-14  3.880323e-08  9.250639e-01   \n",
       "14  0.044256  2.611280e-02  5.588543e-08  9.670225e-06  7.314905e-01   \n",
       "15  0.196971  2.253450e-01  4.076403e-03  6.140770e-03  9.666929e-01   \n",
       "\n",
       "              11        12            13            14        15  \n",
       "1   1.673971e-08  0.328202  1.692710e-08  7.482139e-04  0.086722  \n",
       "2   1.105187e-09  0.385637  1.525107e-09  2.912086e-04  0.068159  \n",
       "3   3.714571e-03  0.227715  1.555623e-03  2.523943e-02  0.173605  \n",
       "4   4.441856e-02  0.067518  1.785274e-02  1.737441e-01  0.404380  \n",
       "5   8.504046e-16  0.767520  5.405420e-15  1.248531e-06  0.016841  \n",
       "6   1.300338e-02  0.219382  5.985652e-03  4.425606e-02  0.196971  \n",
       "7   3.836068e-04  0.142058  1.601866e-04  2.611280e-02  0.225345  \n",
       "8   1.152333e-14  0.800228  1.371154e-14  5.588543e-08  0.004076  \n",
       "9   9.477831e-08  0.776714  3.880323e-08  9.670225e-06  0.006141  \n",
       "10  4.843385e-01  0.008553  9.250639e-01  7.314905e-01  0.966693  \n",
       "11 -1.000000e+00  0.017705  6.597225e-01  9.369038e-01  0.814653  \n",
       "12  1.770491e-02 -1.000000  1.183354e-02  2.299817e-02  0.056980  \n",
       "13  6.597225e-01  0.011834 -1.000000e+00  8.075658e-01  0.945165  \n",
       "14  9.369038e-01  0.022998  8.075658e-01 -1.000000e+00  0.854246  \n",
       "15  8.146527e-01  0.056980  9.451645e-01  8.542458e-01 -1.000000  "
      ]
     },
     "execution_count": 17,
     "metadata": {},
     "output_type": "execute_result"
    }
   ],
   "source": [
    "y = []\n",
    "for ids, event in enumerate(pd.unique(dane.events)):\n",
    "    y.append(dane[dane.events == event].iloc[:, 5:24].avg_temp.tolist())\n",
    "\n",
    "pc = sp.posthoc_conover(y)\n",
    "pc"
   ]
  },
  {
   "cell_type": "code",
   "execution_count": 18,
   "metadata": {
    "slideshow": {
     "slide_type": "slide"
    }
   },
   "outputs": [
    {
     "data": {
      "text/plain": [
       "[(1, 'Rain'),\n",
       " (2, 'No event'),\n",
       " (3, 'Fog , Rain , Thunderstorm'),\n",
       " (4, 'Fog , Rain'),\n",
       " (5, 'Rain , Thunderstorm'),\n",
       " (6, 'Rain , Hail'),\n",
       " (7, 'Fog'),\n",
       " (8, 'Thunderstorm'),\n",
       " (9, 'Rain , Hail , Thunderstorm'),\n",
       " (10, 'Snow'),\n",
       " (11, 'Rain , Snow'),\n",
       " (12, 'Fog , Thunderstorm'),\n",
       " (13, 'Fog , Snow'),\n",
       " (14, 'Fog , Rain , Snow'),\n",
       " (15, 'Fog , Snow , Thunderstorm')]"
      ]
     },
     "execution_count": 18,
     "metadata": {},
     "output_type": "execute_result"
    }
   ],
   "source": [
    "[(nr + 1, i) for nr, i in enumerate(pd.unique(dane.events))]"
   ]
  },
  {
   "cell_type": "code",
   "execution_count": 19,
   "metadata": {
    "slideshow": {
     "slide_type": "slide"
    }
   },
   "outputs": [
    {
     "data": {
      "text/plain": [
       "(<matplotlib.axes._subplots.AxesSubplot at 0x20308170668>,\n",
       " <matplotlib.colorbar.ColorbarBase at 0x2031563e630>)"
      ]
     },
     "execution_count": 19,
     "metadata": {},
     "output_type": "execute_result"
    },
    {
     "data": {
      "image/png": "[encoded data removed]",
      "text/plain": [
       "<Figure size 1440x432 with 2 Axes>"
      ]
     },
     "metadata": {},
     "output_type": "display_data"
    }
   ],
   "source": [
    "heatmap_args = {'linewidths': 0.25, 'linecolor': '0.5', 'clip_on': False, 'square': True, 'cbar_ax_bbox': [0.80, 0.35, 0.04, 0.3]}\n",
    "sp.sign_plot(pc, **heatmap_args)"
   ]
  },
  {
   "cell_type": "markdown",
   "metadata": {
    "slideshow": {
     "slide_type": "slide"
    }
   },
   "source": [
    "Widzimy różnice w większości grup. Grupa 15 wykazuje brak różnic z większością, jednak grupa ta jest zbyt mała dla sensownych porównań. Różnice te zauważaliśmy także na boxplotach a odrzucenie hipotez testów post-hoc je potwierdziło. Wydarzenia takie jak śnieg i deszcz różnią się warunkami atmosferycznymi jak temperatura otoczenia, więc można było się spodziewać różnic."
   ]
  },
  {
   "cell_type": "markdown",
   "metadata": {
    "slideshow": {
     "slide_type": "slide"
    }
   },
   "source": [
    "## Testy post-hoc dla miast"
   ]
  },
  {
   "cell_type": "markdown",
   "metadata": {
    "slideshow": {
     "slide_type": "-"
    }
   },
   "source": [
    "Przykładowo użyjemy testu Dunn'a."
   ]
  },
  {
   "cell_type": "code",
   "execution_count": 20,
   "metadata": {
    "slideshow": {
     "slide_type": "slide"
    }
   },
   "outputs": [
    {
     "data": {
      "text/html": [
       "<div>\n",
       "<style scoped>\n",
       "    .dataframe tbody tr th:only-of-type {\n",
       "        vertical-align: middle;\n",
       "    }\n",
       "\n",
       "    .dataframe tbody tr th {\n",
       "        vertical-align: top;\n",
       "    }\n",
       "\n",
       "    .dataframe thead th {\n",
       "        text-align: right;\n",
       "    }\n",
       "</style>\n",
       "<table border=\"1\" class=\"dataframe\">\n",
       "  <thead>\n",
       "    <tr style=\"text-align: right;\">\n",
       "      <th></th>\n",
       "      <th>1</th>\n",
       "      <th>2</th>\n",
       "      <th>3</th>\n",
       "      <th>4</th>\n",
       "      <th>5</th>\n",
       "    </tr>\n",
       "  </thead>\n",
       "  <tbody>\n",
       "    <tr>\n",
       "      <th>1</th>\n",
       "      <td>-1.000000e+00</td>\n",
       "      <td>2.440807e-225</td>\n",
       "      <td>2.534713e-01</td>\n",
       "      <td>1.608605e-02</td>\n",
       "      <td>1.325673e-19</td>\n",
       "    </tr>\n",
       "    <tr>\n",
       "      <th>2</th>\n",
       "      <td>2.440807e-225</td>\n",
       "      <td>-1.000000e+00</td>\n",
       "      <td>1.031631e-209</td>\n",
       "      <td>3.970014e-260</td>\n",
       "      <td>6.081976e-117</td>\n",
       "    </tr>\n",
       "    <tr>\n",
       "      <th>3</th>\n",
       "      <td>2.534713e-01</td>\n",
       "      <td>1.031631e-209</td>\n",
       "      <td>-1.000000e+00</td>\n",
       "      <td>3.868209e-04</td>\n",
       "      <td>2.447112e-15</td>\n",
       "    </tr>\n",
       "    <tr>\n",
       "      <th>4</th>\n",
       "      <td>1.608605e-02</td>\n",
       "      <td>3.970014e-260</td>\n",
       "      <td>3.868209e-04</td>\n",
       "      <td>-1.000000e+00</td>\n",
       "      <td>1.973003e-30</td>\n",
       "    </tr>\n",
       "    <tr>\n",
       "      <th>5</th>\n",
       "      <td>1.325673e-19</td>\n",
       "      <td>6.081976e-117</td>\n",
       "      <td>2.447112e-15</td>\n",
       "      <td>1.973003e-30</td>\n",
       "      <td>-1.000000e+00</td>\n",
       "    </tr>\n",
       "  </tbody>\n",
       "</table>\n",
       "</div>"
      ],
      "text/plain": [
       "               1              2              3              4              5\n",
       "1  -1.000000e+00  2.440807e-225   2.534713e-01   1.608605e-02   1.325673e-19\n",
       "2  2.440807e-225  -1.000000e+00  1.031631e-209  3.970014e-260  6.081976e-117\n",
       "3   2.534713e-01  1.031631e-209  -1.000000e+00   3.868209e-04   2.447112e-15\n",
       "4   1.608605e-02  3.970014e-260   3.868209e-04  -1.000000e+00   1.973003e-30\n",
       "5   1.325673e-19  6.081976e-117   2.447112e-15   1.973003e-30  -1.000000e+00"
      ]
     },
     "execution_count": 20,
     "metadata": {},
     "output_type": "execute_result"
    }
   ],
   "source": [
    "y = []\n",
    "for ids, city in enumerate(pd.unique(dane.city)):\n",
    "    y.append(dane[dane.city == city].iloc[:, 5:24].avg_temp.tolist())\n",
    "\n",
    "pc =sp.posthoc_dunn(y)\n",
    "pc"
   ]
  },
  {
   "cell_type": "code",
   "execution_count": 21,
   "metadata": {
    "slideshow": {
     "slide_type": "slide"
    }
   },
   "outputs": [
    {
     "data": {
      "text/plain": [
       "[(1, 'Auckland'),\n",
       " (2, 'Mumbai'),\n",
       " (3, 'Beijing'),\n",
       " (4, 'Chicago'),\n",
       " (5, 'San Diego')]"
      ]
     },
     "execution_count": 21,
     "metadata": {},
     "output_type": "execute_result"
    }
   ],
   "source": [
    "[(nr + 1, i) for nr, i in enumerate(pd.unique(dane.city))]"
   ]
  },
  {
   "cell_type": "code",
   "execution_count": 22,
   "metadata": {
    "slideshow": {
     "slide_type": "slide"
    }
   },
   "outputs": [
    {
     "data": {
      "text/plain": [
       "(<matplotlib.axes._subplots.AxesSubplot at 0x203134755c0>,\n",
       " <matplotlib.colorbar.ColorbarBase at 0x203156d4358>)"
      ]
     },
     "execution_count": 22,
     "metadata": {},
     "output_type": "execute_result"
    },
    {
     "data": {
      "image/png": "[encoded data removed]",
      "text/plain": [
       "<Figure size 1440x432 with 2 Axes>"
      ]
     },
     "metadata": {},
     "output_type": "display_data"
    }
   ],
   "source": [
    "heatmap_args = {'linewidths': 0.25, 'linecolor': '0.5', 'clip_on': False, 'square': True, 'cbar_ax_bbox': [0.80, 0.35, 0.04, 0.3]}\n",
    "sp.sign_plot(pc, **heatmap_args)"
   ]
  },
  {
   "cell_type": "markdown",
   "metadata": {
    "slideshow": {
     "slide_type": "slide"
    }
   },
   "source": [
    "Widzimy różnice w większości grup. Grupa 3 i 4 wykazuje brak różnic, przekrój tych grup na boxplocie był różny, aczkolwiek średnie i mediany są podobne, co sprawdzają te testy. Różnice te zauważaliśmy także na boxplotach a odrzucenie hipotez testów post-hoc je potwierdziło."
   ]
  },
  {
   "cell_type": "markdown",
   "metadata": {
    "slideshow": {
     "slide_type": "slide"
    }
   },
   "source": [
    "# Klasyfikacja za pomocą regresji logistycznej"
   ]
  },
  {
   "cell_type": "markdown",
   "metadata": {
    "slideshow": {
     "slide_type": "-"
    }
   },
   "source": [
    "Spróbujmy zaklasyfikować typ wydarzenia za pomocą np regresji logistycznej. Zrobimy to dla każdego wydarzenia z osobna a później połączymy je w wspólne wydarzenie, ze względu na bardzo małą ilość niektórych z łączonych wydarzeń."
   ]
  },
  {
   "cell_type": "markdown",
   "metadata": {
    "slideshow": {
     "slide_type": "slide"
    }
   },
   "source": [
    "Przypomnijmy sobie, jakie pojedyncze wydarzenia występują w zbiorze."
   ]
  },
  {
   "cell_type": "code",
   "execution_count": 23,
   "metadata": {
    "slideshow": {
     "slide_type": "-"
    }
   },
   "outputs": [
    {
     "data": {
      "text/plain": [
       "Index(['Rain', 'Fog', 'Thunderstorm', 'Snow', 'Hail'], dtype='object')"
      ]
     },
     "execution_count": 23,
     "metadata": {},
     "output_type": "execute_result"
    }
   ],
   "source": [
    "dane.iloc[:, 25:30].columns"
   ]
  },
  {
   "cell_type": "markdown",
   "metadata": {
    "slideshow": {
     "slide_type": "slide"
    }
   },
   "source": [
    "## Utworzenie zbioru uczącego i testowego"
   ]
  },
  {
   "cell_type": "markdown",
   "metadata": {
    "slideshow": {
     "slide_type": "-"
    }
   },
   "source": [
    "Dla celów sprawdzenia jakości klasyfikacji podzielmy zbiór na dwie części."
   ]
  },
  {
   "cell_type": "code",
   "execution_count": 24,
   "metadata": {
    "slideshow": {
     "slide_type": "-"
    }
   },
   "outputs": [
    {
     "data": {
      "text/plain": [
       "[(2448, 24), (1207, 24), (2448, 6), (1207, 6)]"
      ]
     },
     "execution_count": 24,
     "metadata": {},
     "output_type": "execute_result"
    }
   ],
   "source": [
    "X_train, X_test, y_train, y_test = train_test_split(\n",
    "     dane.iloc[:,0:24], dane.iloc[:,24:30], test_size=0.33, random_state=42)\n",
    "\n",
    "[i.shape for i in [X_train, X_test, y_train, y_test]]"
   ]
  },
  {
   "cell_type": "markdown",
   "metadata": {
    "slideshow": {
     "slide_type": "slide"
    }
   },
   "source": [
    "## Klasyfikacja"
   ]
  },
  {
   "cell_type": "markdown",
   "metadata": {
    "slideshow": {
     "slide_type": "slide"
    }
   },
   "source": [
    "Klasyfikacja zmiennej deszcz"
   ]
  },
  {
   "cell_type": "code",
   "execution_count": 25,
   "metadata": {
    "slideshow": {
     "slide_type": "-"
    }
   },
   "outputs": [
    {
     "name": "stdout",
     "output_type": "stream",
     "text": [
      "[1. 1. 0. ... 0. 0. 0.]\n",
      "0.8724109362054681\n"
     ]
    }
   ],
   "source": [
    "clf = LogisticRegression().fit(X_train.iloc[:, 5:], y_train.Rain)\n",
    "print(clf.predict(X_test.iloc[:, 5:]))\n",
    "print(clf.score(X_test.iloc[:, 5:], y_test.Rain))\n",
    "y_test['RainPredict'] = clf.predict(X_test.iloc[:, 5:])"
   ]
  },
  {
   "cell_type": "markdown",
   "metadata": {
    "slideshow": {
     "slide_type": "slide"
    }
   },
   "source": [
    "Klasyfikacja zmiennej mgła"
   ]
  },
  {
   "cell_type": "code",
   "execution_count": 26,
   "metadata": {
    "slideshow": {
     "slide_type": "-"
    }
   },
   "outputs": [
    {
     "name": "stdout",
     "output_type": "stream",
     "text": [
      "[0. 0. 1. ... 0. 0. 0.]\n",
      "0.9784589892294946\n"
     ]
    }
   ],
   "source": [
    "clf = LogisticRegression().fit(X_train.iloc[:, 5:], y_train.Fog)\n",
    "print(clf.predict(X_test.iloc[:, 5:]))\n",
    "print(clf.score(X_test.iloc[:, 5:], y_test.Fog))\n",
    "y_test['FogPredict'] = clf.predict(X_test.iloc[:, 5:])"
   ]
  },
  {
   "cell_type": "markdown",
   "metadata": {
    "slideshow": {
     "slide_type": "slide"
    }
   },
   "source": [
    "Klasyfikacja zmiennej burzy z piorunami"
   ]
  },
  {
   "cell_type": "code",
   "execution_count": 27,
   "metadata": {
    "slideshow": {
     "slide_type": "-"
    }
   },
   "outputs": [
    {
     "name": "stdout",
     "output_type": "stream",
     "text": [
      "[0. 0. 0. ... 0. 0. 0.]\n",
      "0.9370339685169843\n"
     ]
    }
   ],
   "source": [
    "clf = LogisticRegression().fit(X_train.iloc[:, 5:], y_train.Thunderstorm)\n",
    "print(clf.predict(X_test.iloc[:, 5:]))\n",
    "print(clf.score(X_test.iloc[:, 5:], y_test.Thunderstorm))\n",
    "y_test['ThunderstormPredict'] = clf.predict(X_test.iloc[:, 5:])"
   ]
  },
  {
   "cell_type": "markdown",
   "metadata": {
    "slideshow": {
     "slide_type": "slide"
    }
   },
   "source": [
    "Klasyfikacja zmiennej śnieg"
   ]
  },
  {
   "cell_type": "code",
   "execution_count": 28,
   "metadata": {
    "slideshow": {
     "slide_type": "-"
    }
   },
   "outputs": [
    {
     "name": "stdout",
     "output_type": "stream",
     "text": [
      "[0. 0. 0. ... 0. 0. 0.]\n",
      "0.9867439933719967\n"
     ]
    }
   ],
   "source": [
    "clf = LogisticRegression().fit(X_train.iloc[:, 5:], y_train.Snow)\n",
    "print(clf.predict(X_test.iloc[:, 5:]))\n",
    "print(clf.score(X_test.iloc[:, 5:], y_test.Snow))\n",
    "y_test['SnowPredict'] = clf.predict(X_test.iloc[:, 5:])"
   ]
  },
  {
   "cell_type": "markdown",
   "metadata": {
    "slideshow": {
     "slide_type": "slide"
    }
   },
   "source": [
    "Klasyfikacja zmiennej grad"
   ]
  },
  {
   "cell_type": "code",
   "execution_count": 29,
   "metadata": {
    "slideshow": {
     "slide_type": "-"
    }
   },
   "outputs": [
    {
     "name": "stdout",
     "output_type": "stream",
     "text": [
      "[0. 0. 0. ... 0. 0. 0.]\n",
      "0.9925434962717481\n"
     ]
    }
   ],
   "source": [
    "clf = LogisticRegression().fit(X_train.iloc[:, 5:], y_train.Hail)\n",
    "print(clf.predict(X_test.iloc[:, 5:]))\n",
    "print(clf.score(X_test.iloc[:, 5:], y_test.Hail))\n",
    "y_test['HailPredict'] = clf.predict(X_test.iloc[:, 5:])"
   ]
  },
  {
   "cell_type": "markdown",
   "metadata": {
    "slideshow": {
     "slide_type": "slide"
    }
   },
   "source": [
    "Widzimy całkiem wysoką dokładność (accuracy) dopasowania dla wszystkich typów wydarzeń. Pamiętajmy jednak, że osobna predykcja spowoduje wiekszy odsetek błędów niż łączna."
   ]
  },
  {
   "cell_type": "code",
   "execution_count": 30,
   "metadata": {
    "slideshow": {
     "slide_type": "skip"
    }
   },
   "outputs": [],
   "source": [
    "def change(x):\n",
    "    y_test[x + 'Predict'] = y_test[x + 'Predict'].map({0: 'No event', 1: x}).fillna('No event')"
   ]
  },
  {
   "cell_type": "markdown",
   "metadata": {
    "slideshow": {
     "slide_type": "skip"
    }
   },
   "source": [
    "Podejrzyjmy efekty naszej pracy."
   ]
  },
  {
   "cell_type": "code",
   "execution_count": 31,
   "metadata": {
    "slideshow": {
     "slide_type": "skip"
    }
   },
   "outputs": [
    {
     "data": {
      "text/html": [
       "<div>\n",
       "<style scoped>\n",
       "    .dataframe tbody tr th:only-of-type {\n",
       "        vertical-align: middle;\n",
       "    }\n",
       "\n",
       "    .dataframe tbody tr th {\n",
       "        vertical-align: top;\n",
       "    }\n",
       "\n",
       "    .dataframe thead th {\n",
       "        text-align: right;\n",
       "    }\n",
       "</style>\n",
       "<table border=\"1\" class=\"dataframe\">\n",
       "  <thead>\n",
       "    <tr style=\"text-align: right;\">\n",
       "      <th></th>\n",
       "      <th>events</th>\n",
       "      <th>Rain</th>\n",
       "      <th>Fog</th>\n",
       "      <th>Thunderstorm</th>\n",
       "      <th>Snow</th>\n",
       "      <th>Hail</th>\n",
       "      <th>RainPredict</th>\n",
       "      <th>FogPredict</th>\n",
       "      <th>ThunderstormPredict</th>\n",
       "      <th>SnowPredict</th>\n",
       "      <th>HailPredict</th>\n",
       "    </tr>\n",
       "  </thead>\n",
       "  <tbody>\n",
       "    <tr>\n",
       "      <th>1313</th>\n",
       "      <td>No event</td>\n",
       "      <td>0.0</td>\n",
       "      <td>0.0</td>\n",
       "      <td>0.0</td>\n",
       "      <td>0.0</td>\n",
       "      <td>0.0</td>\n",
       "      <td>1.0</td>\n",
       "      <td>0.0</td>\n",
       "      <td>0.0</td>\n",
       "      <td>0.0</td>\n",
       "      <td>0.0</td>\n",
       "    </tr>\n",
       "    <tr>\n",
       "      <th>1674</th>\n",
       "      <td>Rain , Thunderstorm</td>\n",
       "      <td>1.0</td>\n",
       "      <td>0.0</td>\n",
       "      <td>1.0</td>\n",
       "      <td>0.0</td>\n",
       "      <td>0.0</td>\n",
       "      <td>1.0</td>\n",
       "      <td>0.0</td>\n",
       "      <td>0.0</td>\n",
       "      <td>0.0</td>\n",
       "      <td>0.0</td>\n",
       "    </tr>\n",
       "    <tr>\n",
       "      <th>229</th>\n",
       "      <td>Fog</td>\n",
       "      <td>0.0</td>\n",
       "      <td>1.0</td>\n",
       "      <td>0.0</td>\n",
       "      <td>0.0</td>\n",
       "      <td>0.0</td>\n",
       "      <td>0.0</td>\n",
       "      <td>1.0</td>\n",
       "      <td>0.0</td>\n",
       "      <td>0.0</td>\n",
       "      <td>0.0</td>\n",
       "    </tr>\n",
       "    <tr>\n",
       "      <th>3510</th>\n",
       "      <td>No event</td>\n",
       "      <td>0.0</td>\n",
       "      <td>0.0</td>\n",
       "      <td>0.0</td>\n",
       "      <td>0.0</td>\n",
       "      <td>0.0</td>\n",
       "      <td>0.0</td>\n",
       "      <td>0.0</td>\n",
       "      <td>0.0</td>\n",
       "      <td>0.0</td>\n",
       "      <td>0.0</td>\n",
       "    </tr>\n",
       "    <tr>\n",
       "      <th>2222</th>\n",
       "      <td>Rain</td>\n",
       "      <td>1.0</td>\n",
       "      <td>0.0</td>\n",
       "      <td>0.0</td>\n",
       "      <td>0.0</td>\n",
       "      <td>0.0</td>\n",
       "      <td>0.0</td>\n",
       "      <td>0.0</td>\n",
       "      <td>0.0</td>\n",
       "      <td>0.0</td>\n",
       "      <td>0.0</td>\n",
       "    </tr>\n",
       "    <tr>\n",
       "      <th>807</th>\n",
       "      <td>No event</td>\n",
       "      <td>0.0</td>\n",
       "      <td>0.0</td>\n",
       "      <td>0.0</td>\n",
       "      <td>0.0</td>\n",
       "      <td>0.0</td>\n",
       "      <td>0.0</td>\n",
       "      <td>0.0</td>\n",
       "      <td>0.0</td>\n",
       "      <td>0.0</td>\n",
       "      <td>0.0</td>\n",
       "    </tr>\n",
       "    <tr>\n",
       "      <th>761</th>\n",
       "      <td>No event</td>\n",
       "      <td>0.0</td>\n",
       "      <td>0.0</td>\n",
       "      <td>0.0</td>\n",
       "      <td>0.0</td>\n",
       "      <td>0.0</td>\n",
       "      <td>0.0</td>\n",
       "      <td>0.0</td>\n",
       "      <td>0.0</td>\n",
       "      <td>0.0</td>\n",
       "      <td>0.0</td>\n",
       "    </tr>\n",
       "    <tr>\n",
       "      <th>2656</th>\n",
       "      <td>No event</td>\n",
       "      <td>0.0</td>\n",
       "      <td>0.0</td>\n",
       "      <td>0.0</td>\n",
       "      <td>0.0</td>\n",
       "      <td>0.0</td>\n",
       "      <td>0.0</td>\n",
       "      <td>0.0</td>\n",
       "      <td>0.0</td>\n",
       "      <td>0.0</td>\n",
       "      <td>0.0</td>\n",
       "    </tr>\n",
       "    <tr>\n",
       "      <th>736</th>\n",
       "      <td>No event</td>\n",
       "      <td>0.0</td>\n",
       "      <td>0.0</td>\n",
       "      <td>0.0</td>\n",
       "      <td>0.0</td>\n",
       "      <td>0.0</td>\n",
       "      <td>0.0</td>\n",
       "      <td>0.0</td>\n",
       "      <td>0.0</td>\n",
       "      <td>0.0</td>\n",
       "      <td>0.0</td>\n",
       "    </tr>\n",
       "    <tr>\n",
       "      <th>2972</th>\n",
       "      <td>Rain</td>\n",
       "      <td>1.0</td>\n",
       "      <td>0.0</td>\n",
       "      <td>0.0</td>\n",
       "      <td>0.0</td>\n",
       "      <td>0.0</td>\n",
       "      <td>1.0</td>\n",
       "      <td>0.0</td>\n",
       "      <td>0.0</td>\n",
       "      <td>0.0</td>\n",
       "      <td>0.0</td>\n",
       "    </tr>\n",
       "    <tr>\n",
       "      <th>1786</th>\n",
       "      <td>Rain , Snow</td>\n",
       "      <td>1.0</td>\n",
       "      <td>0.0</td>\n",
       "      <td>0.0</td>\n",
       "      <td>1.0</td>\n",
       "      <td>0.0</td>\n",
       "      <td>1.0</td>\n",
       "      <td>0.0</td>\n",
       "      <td>0.0</td>\n",
       "      <td>0.0</td>\n",
       "      <td>0.0</td>\n",
       "    </tr>\n",
       "    <tr>\n",
       "      <th>3177</th>\n",
       "      <td>No event</td>\n",
       "      <td>0.0</td>\n",
       "      <td>0.0</td>\n",
       "      <td>0.0</td>\n",
       "      <td>0.0</td>\n",
       "      <td>0.0</td>\n",
       "      <td>0.0</td>\n",
       "      <td>0.0</td>\n",
       "      <td>0.0</td>\n",
       "      <td>0.0</td>\n",
       "      <td>0.0</td>\n",
       "    </tr>\n",
       "    <tr>\n",
       "      <th>1872</th>\n",
       "      <td>No event</td>\n",
       "      <td>0.0</td>\n",
       "      <td>0.0</td>\n",
       "      <td>0.0</td>\n",
       "      <td>0.0</td>\n",
       "      <td>0.0</td>\n",
       "      <td>0.0</td>\n",
       "      <td>0.0</td>\n",
       "      <td>0.0</td>\n",
       "      <td>0.0</td>\n",
       "      <td>0.0</td>\n",
       "    </tr>\n",
       "    <tr>\n",
       "      <th>32</th>\n",
       "      <td>No event</td>\n",
       "      <td>0.0</td>\n",
       "      <td>0.0</td>\n",
       "      <td>0.0</td>\n",
       "      <td>0.0</td>\n",
       "      <td>0.0</td>\n",
       "      <td>0.0</td>\n",
       "      <td>0.0</td>\n",
       "      <td>0.0</td>\n",
       "      <td>0.0</td>\n",
       "      <td>0.0</td>\n",
       "    </tr>\n",
       "    <tr>\n",
       "      <th>2798</th>\n",
       "      <td>Rain , Thunderstorm</td>\n",
       "      <td>1.0</td>\n",
       "      <td>0.0</td>\n",
       "      <td>1.0</td>\n",
       "      <td>0.0</td>\n",
       "      <td>0.0</td>\n",
       "      <td>1.0</td>\n",
       "      <td>0.0</td>\n",
       "      <td>0.0</td>\n",
       "      <td>0.0</td>\n",
       "      <td>0.0</td>\n",
       "    </tr>\n",
       "    <tr>\n",
       "      <th>1436</th>\n",
       "      <td>Rain</td>\n",
       "      <td>1.0</td>\n",
       "      <td>0.0</td>\n",
       "      <td>0.0</td>\n",
       "      <td>0.0</td>\n",
       "      <td>0.0</td>\n",
       "      <td>1.0</td>\n",
       "      <td>0.0</td>\n",
       "      <td>0.0</td>\n",
       "      <td>0.0</td>\n",
       "      <td>0.0</td>\n",
       "    </tr>\n",
       "    <tr>\n",
       "      <th>2973</th>\n",
       "      <td>No event</td>\n",
       "      <td>0.0</td>\n",
       "      <td>0.0</td>\n",
       "      <td>0.0</td>\n",
       "      <td>0.0</td>\n",
       "      <td>0.0</td>\n",
       "      <td>0.0</td>\n",
       "      <td>0.0</td>\n",
       "      <td>0.0</td>\n",
       "      <td>0.0</td>\n",
       "      <td>0.0</td>\n",
       "    </tr>\n",
       "    <tr>\n",
       "      <th>1867</th>\n",
       "      <td>No event</td>\n",
       "      <td>0.0</td>\n",
       "      <td>0.0</td>\n",
       "      <td>0.0</td>\n",
       "      <td>0.0</td>\n",
       "      <td>0.0</td>\n",
       "      <td>0.0</td>\n",
       "      <td>0.0</td>\n",
       "      <td>0.0</td>\n",
       "      <td>0.0</td>\n",
       "      <td>0.0</td>\n",
       "    </tr>\n",
       "    <tr>\n",
       "      <th>2740</th>\n",
       "      <td>No event</td>\n",
       "      <td>0.0</td>\n",
       "      <td>0.0</td>\n",
       "      <td>0.0</td>\n",
       "      <td>0.0</td>\n",
       "      <td>0.0</td>\n",
       "      <td>0.0</td>\n",
       "      <td>0.0</td>\n",
       "      <td>0.0</td>\n",
       "      <td>0.0</td>\n",
       "      <td>0.0</td>\n",
       "    </tr>\n",
       "    <tr>\n",
       "      <th>3033</th>\n",
       "      <td>No event</td>\n",
       "      <td>0.0</td>\n",
       "      <td>0.0</td>\n",
       "      <td>0.0</td>\n",
       "      <td>0.0</td>\n",
       "      <td>0.0</td>\n",
       "      <td>0.0</td>\n",
       "      <td>0.0</td>\n",
       "      <td>0.0</td>\n",
       "      <td>0.0</td>\n",
       "      <td>0.0</td>\n",
       "    </tr>\n",
       "    <tr>\n",
       "      <th>790</th>\n",
       "      <td>No event</td>\n",
       "      <td>0.0</td>\n",
       "      <td>0.0</td>\n",
       "      <td>0.0</td>\n",
       "      <td>0.0</td>\n",
       "      <td>0.0</td>\n",
       "      <td>0.0</td>\n",
       "      <td>0.0</td>\n",
       "      <td>0.0</td>\n",
       "      <td>0.0</td>\n",
       "      <td>0.0</td>\n",
       "    </tr>\n",
       "    <tr>\n",
       "      <th>3297</th>\n",
       "      <td>No event</td>\n",
       "      <td>0.0</td>\n",
       "      <td>0.0</td>\n",
       "      <td>0.0</td>\n",
       "      <td>0.0</td>\n",
       "      <td>0.0</td>\n",
       "      <td>0.0</td>\n",
       "      <td>0.0</td>\n",
       "      <td>0.0</td>\n",
       "      <td>0.0</td>\n",
       "      <td>0.0</td>\n",
       "    </tr>\n",
       "    <tr>\n",
       "      <th>3654</th>\n",
       "      <td>Fog</td>\n",
       "      <td>0.0</td>\n",
       "      <td>1.0</td>\n",
       "      <td>0.0</td>\n",
       "      <td>0.0</td>\n",
       "      <td>0.0</td>\n",
       "      <td>0.0</td>\n",
       "      <td>1.0</td>\n",
       "      <td>0.0</td>\n",
       "      <td>0.0</td>\n",
       "      <td>0.0</td>\n",
       "    </tr>\n",
       "    <tr>\n",
       "      <th>3605</th>\n",
       "      <td>No event</td>\n",
       "      <td>0.0</td>\n",
       "      <td>0.0</td>\n",
       "      <td>0.0</td>\n",
       "      <td>0.0</td>\n",
       "      <td>0.0</td>\n",
       "      <td>0.0</td>\n",
       "      <td>0.0</td>\n",
       "      <td>0.0</td>\n",
       "      <td>0.0</td>\n",
       "      <td>0.0</td>\n",
       "    </tr>\n",
       "    <tr>\n",
       "      <th>1532</th>\n",
       "      <td>No event</td>\n",
       "      <td>0.0</td>\n",
       "      <td>0.0</td>\n",
       "      <td>0.0</td>\n",
       "      <td>0.0</td>\n",
       "      <td>0.0</td>\n",
       "      <td>0.0</td>\n",
       "      <td>0.0</td>\n",
       "      <td>0.0</td>\n",
       "      <td>0.0</td>\n",
       "      <td>0.0</td>\n",
       "    </tr>\n",
       "    <tr>\n",
       "      <th>2254</th>\n",
       "      <td>Snow</td>\n",
       "      <td>0.0</td>\n",
       "      <td>0.0</td>\n",
       "      <td>0.0</td>\n",
       "      <td>1.0</td>\n",
       "      <td>0.0</td>\n",
       "      <td>0.0</td>\n",
       "      <td>0.0</td>\n",
       "      <td>0.0</td>\n",
       "      <td>1.0</td>\n",
       "      <td>0.0</td>\n",
       "    </tr>\n",
       "    <tr>\n",
       "      <th>443</th>\n",
       "      <td>No event</td>\n",
       "      <td>0.0</td>\n",
       "      <td>0.0</td>\n",
       "      <td>0.0</td>\n",
       "      <td>0.0</td>\n",
       "      <td>0.0</td>\n",
       "      <td>0.0</td>\n",
       "      <td>0.0</td>\n",
       "      <td>0.0</td>\n",
       "      <td>0.0</td>\n",
       "      <td>0.0</td>\n",
       "    </tr>\n",
       "    <tr>\n",
       "      <th>2348</th>\n",
       "      <td>Rain</td>\n",
       "      <td>1.0</td>\n",
       "      <td>0.0</td>\n",
       "      <td>0.0</td>\n",
       "      <td>0.0</td>\n",
       "      <td>0.0</td>\n",
       "      <td>1.0</td>\n",
       "      <td>0.0</td>\n",
       "      <td>0.0</td>\n",
       "      <td>0.0</td>\n",
       "      <td>0.0</td>\n",
       "    </tr>\n",
       "    <tr>\n",
       "      <th>402</th>\n",
       "      <td>No event</td>\n",
       "      <td>0.0</td>\n",
       "      <td>0.0</td>\n",
       "      <td>0.0</td>\n",
       "      <td>0.0</td>\n",
       "      <td>0.0</td>\n",
       "      <td>0.0</td>\n",
       "      <td>0.0</td>\n",
       "      <td>0.0</td>\n",
       "      <td>0.0</td>\n",
       "      <td>0.0</td>\n",
       "    </tr>\n",
       "    <tr>\n",
       "      <th>93</th>\n",
       "      <td>Rain</td>\n",
       "      <td>1.0</td>\n",
       "      <td>0.0</td>\n",
       "      <td>0.0</td>\n",
       "      <td>0.0</td>\n",
       "      <td>0.0</td>\n",
       "      <td>1.0</td>\n",
       "      <td>0.0</td>\n",
       "      <td>0.0</td>\n",
       "      <td>0.0</td>\n",
       "      <td>0.0</td>\n",
       "    </tr>\n",
       "    <tr>\n",
       "      <th>...</th>\n",
       "      <td>...</td>\n",
       "      <td>...</td>\n",
       "      <td>...</td>\n",
       "      <td>...</td>\n",
       "      <td>...</td>\n",
       "      <td>...</td>\n",
       "      <td>...</td>\n",
       "      <td>...</td>\n",
       "      <td>...</td>\n",
       "      <td>...</td>\n",
       "      <td>...</td>\n",
       "    </tr>\n",
       "    <tr>\n",
       "      <th>212</th>\n",
       "      <td>Rain</td>\n",
       "      <td>1.0</td>\n",
       "      <td>0.0</td>\n",
       "      <td>0.0</td>\n",
       "      <td>0.0</td>\n",
       "      <td>0.0</td>\n",
       "      <td>1.0</td>\n",
       "      <td>0.0</td>\n",
       "      <td>0.0</td>\n",
       "      <td>0.0</td>\n",
       "      <td>0.0</td>\n",
       "    </tr>\n",
       "    <tr>\n",
       "      <th>1036</th>\n",
       "      <td>No event</td>\n",
       "      <td>0.0</td>\n",
       "      <td>0.0</td>\n",
       "      <td>0.0</td>\n",
       "      <td>0.0</td>\n",
       "      <td>0.0</td>\n",
       "      <td>0.0</td>\n",
       "      <td>0.0</td>\n",
       "      <td>0.0</td>\n",
       "      <td>0.0</td>\n",
       "      <td>0.0</td>\n",
       "    </tr>\n",
       "    <tr>\n",
       "      <th>3535</th>\n",
       "      <td>Rain</td>\n",
       "      <td>1.0</td>\n",
       "      <td>0.0</td>\n",
       "      <td>0.0</td>\n",
       "      <td>0.0</td>\n",
       "      <td>0.0</td>\n",
       "      <td>0.0</td>\n",
       "      <td>0.0</td>\n",
       "      <td>0.0</td>\n",
       "      <td>0.0</td>\n",
       "      <td>0.0</td>\n",
       "    </tr>\n",
       "    <tr>\n",
       "      <th>900</th>\n",
       "      <td>Rain , Hail , Thunderstorm</td>\n",
       "      <td>1.0</td>\n",
       "      <td>0.0</td>\n",
       "      <td>1.0</td>\n",
       "      <td>0.0</td>\n",
       "      <td>1.0</td>\n",
       "      <td>0.0</td>\n",
       "      <td>0.0</td>\n",
       "      <td>0.0</td>\n",
       "      <td>0.0</td>\n",
       "      <td>0.0</td>\n",
       "    </tr>\n",
       "    <tr>\n",
       "      <th>1446</th>\n",
       "      <td>No event</td>\n",
       "      <td>0.0</td>\n",
       "      <td>0.0</td>\n",
       "      <td>0.0</td>\n",
       "      <td>0.0</td>\n",
       "      <td>0.0</td>\n",
       "      <td>0.0</td>\n",
       "      <td>0.0</td>\n",
       "      <td>0.0</td>\n",
       "      <td>0.0</td>\n",
       "      <td>0.0</td>\n",
       "    </tr>\n",
       "    <tr>\n",
       "      <th>2416</th>\n",
       "      <td>No event</td>\n",
       "      <td>0.0</td>\n",
       "      <td>0.0</td>\n",
       "      <td>0.0</td>\n",
       "      <td>0.0</td>\n",
       "      <td>0.0</td>\n",
       "      <td>0.0</td>\n",
       "      <td>0.0</td>\n",
       "      <td>0.0</td>\n",
       "      <td>0.0</td>\n",
       "      <td>0.0</td>\n",
       "    </tr>\n",
       "    <tr>\n",
       "      <th>741</th>\n",
       "      <td>No event</td>\n",
       "      <td>0.0</td>\n",
       "      <td>0.0</td>\n",
       "      <td>0.0</td>\n",
       "      <td>0.0</td>\n",
       "      <td>0.0</td>\n",
       "      <td>0.0</td>\n",
       "      <td>0.0</td>\n",
       "      <td>0.0</td>\n",
       "      <td>0.0</td>\n",
       "      <td>0.0</td>\n",
       "    </tr>\n",
       "    <tr>\n",
       "      <th>3210</th>\n",
       "      <td>No event</td>\n",
       "      <td>0.0</td>\n",
       "      <td>0.0</td>\n",
       "      <td>0.0</td>\n",
       "      <td>0.0</td>\n",
       "      <td>0.0</td>\n",
       "      <td>0.0</td>\n",
       "      <td>0.0</td>\n",
       "      <td>0.0</td>\n",
       "      <td>0.0</td>\n",
       "      <td>0.0</td>\n",
       "    </tr>\n",
       "    <tr>\n",
       "      <th>2833</th>\n",
       "      <td>No event</td>\n",
       "      <td>0.0</td>\n",
       "      <td>0.0</td>\n",
       "      <td>0.0</td>\n",
       "      <td>0.0</td>\n",
       "      <td>0.0</td>\n",
       "      <td>0.0</td>\n",
       "      <td>0.0</td>\n",
       "      <td>0.0</td>\n",
       "      <td>0.0</td>\n",
       "      <td>0.0</td>\n",
       "    </tr>\n",
       "    <tr>\n",
       "      <th>2571</th>\n",
       "      <td>No event</td>\n",
       "      <td>0.0</td>\n",
       "      <td>0.0</td>\n",
       "      <td>0.0</td>\n",
       "      <td>0.0</td>\n",
       "      <td>0.0</td>\n",
       "      <td>0.0</td>\n",
       "      <td>0.0</td>\n",
       "      <td>0.0</td>\n",
       "      <td>0.0</td>\n",
       "      <td>0.0</td>\n",
       "    </tr>\n",
       "    <tr>\n",
       "      <th>509</th>\n",
       "      <td>Rain</td>\n",
       "      <td>1.0</td>\n",
       "      <td>0.0</td>\n",
       "      <td>0.0</td>\n",
       "      <td>0.0</td>\n",
       "      <td>0.0</td>\n",
       "      <td>1.0</td>\n",
       "      <td>0.0</td>\n",
       "      <td>0.0</td>\n",
       "      <td>0.0</td>\n",
       "      <td>0.0</td>\n",
       "    </tr>\n",
       "    <tr>\n",
       "      <th>597</th>\n",
       "      <td>Rain</td>\n",
       "      <td>1.0</td>\n",
       "      <td>0.0</td>\n",
       "      <td>0.0</td>\n",
       "      <td>0.0</td>\n",
       "      <td>0.0</td>\n",
       "      <td>1.0</td>\n",
       "      <td>0.0</td>\n",
       "      <td>0.0</td>\n",
       "      <td>0.0</td>\n",
       "      <td>0.0</td>\n",
       "    </tr>\n",
       "    <tr>\n",
       "      <th>1545</th>\n",
       "      <td>No event</td>\n",
       "      <td>0.0</td>\n",
       "      <td>0.0</td>\n",
       "      <td>0.0</td>\n",
       "      <td>0.0</td>\n",
       "      <td>0.0</td>\n",
       "      <td>0.0</td>\n",
       "      <td>0.0</td>\n",
       "      <td>0.0</td>\n",
       "      <td>0.0</td>\n",
       "      <td>0.0</td>\n",
       "    </tr>\n",
       "    <tr>\n",
       "      <th>981</th>\n",
       "      <td>Rain</td>\n",
       "      <td>1.0</td>\n",
       "      <td>0.0</td>\n",
       "      <td>0.0</td>\n",
       "      <td>0.0</td>\n",
       "      <td>0.0</td>\n",
       "      <td>1.0</td>\n",
       "      <td>0.0</td>\n",
       "      <td>0.0</td>\n",
       "      <td>0.0</td>\n",
       "      <td>0.0</td>\n",
       "    </tr>\n",
       "    <tr>\n",
       "      <th>1237</th>\n",
       "      <td>No event</td>\n",
       "      <td>0.0</td>\n",
       "      <td>0.0</td>\n",
       "      <td>0.0</td>\n",
       "      <td>0.0</td>\n",
       "      <td>0.0</td>\n",
       "      <td>0.0</td>\n",
       "      <td>0.0</td>\n",
       "      <td>0.0</td>\n",
       "      <td>0.0</td>\n",
       "      <td>0.0</td>\n",
       "    </tr>\n",
       "    <tr>\n",
       "      <th>3215</th>\n",
       "      <td>No event</td>\n",
       "      <td>0.0</td>\n",
       "      <td>0.0</td>\n",
       "      <td>0.0</td>\n",
       "      <td>0.0</td>\n",
       "      <td>0.0</td>\n",
       "      <td>0.0</td>\n",
       "      <td>0.0</td>\n",
       "      <td>0.0</td>\n",
       "      <td>0.0</td>\n",
       "      <td>0.0</td>\n",
       "    </tr>\n",
       "    <tr>\n",
       "      <th>518</th>\n",
       "      <td>Rain</td>\n",
       "      <td>1.0</td>\n",
       "      <td>0.0</td>\n",
       "      <td>0.0</td>\n",
       "      <td>0.0</td>\n",
       "      <td>0.0</td>\n",
       "      <td>1.0</td>\n",
       "      <td>0.0</td>\n",
       "      <td>0.0</td>\n",
       "      <td>0.0</td>\n",
       "      <td>0.0</td>\n",
       "    </tr>\n",
       "    <tr>\n",
       "      <th>2024</th>\n",
       "      <td>No event</td>\n",
       "      <td>0.0</td>\n",
       "      <td>0.0</td>\n",
       "      <td>0.0</td>\n",
       "      <td>0.0</td>\n",
       "      <td>0.0</td>\n",
       "      <td>0.0</td>\n",
       "      <td>0.0</td>\n",
       "      <td>0.0</td>\n",
       "      <td>0.0</td>\n",
       "      <td>0.0</td>\n",
       "    </tr>\n",
       "    <tr>\n",
       "      <th>767</th>\n",
       "      <td>No event</td>\n",
       "      <td>0.0</td>\n",
       "      <td>0.0</td>\n",
       "      <td>0.0</td>\n",
       "      <td>0.0</td>\n",
       "      <td>0.0</td>\n",
       "      <td>0.0</td>\n",
       "      <td>0.0</td>\n",
       "      <td>0.0</td>\n",
       "      <td>0.0</td>\n",
       "      <td>0.0</td>\n",
       "    </tr>\n",
       "    <tr>\n",
       "      <th>2420</th>\n",
       "      <td>No event</td>\n",
       "      <td>0.0</td>\n",
       "      <td>0.0</td>\n",
       "      <td>0.0</td>\n",
       "      <td>0.0</td>\n",
       "      <td>0.0</td>\n",
       "      <td>0.0</td>\n",
       "      <td>0.0</td>\n",
       "      <td>0.0</td>\n",
       "      <td>0.0</td>\n",
       "      <td>0.0</td>\n",
       "    </tr>\n",
       "    <tr>\n",
       "      <th>421</th>\n",
       "      <td>No event</td>\n",
       "      <td>0.0</td>\n",
       "      <td>0.0</td>\n",
       "      <td>0.0</td>\n",
       "      <td>0.0</td>\n",
       "      <td>0.0</td>\n",
       "      <td>0.0</td>\n",
       "      <td>0.0</td>\n",
       "      <td>0.0</td>\n",
       "      <td>0.0</td>\n",
       "      <td>0.0</td>\n",
       "    </tr>\n",
       "    <tr>\n",
       "      <th>123</th>\n",
       "      <td>No event</td>\n",
       "      <td>0.0</td>\n",
       "      <td>0.0</td>\n",
       "      <td>0.0</td>\n",
       "      <td>0.0</td>\n",
       "      <td>0.0</td>\n",
       "      <td>0.0</td>\n",
       "      <td>0.0</td>\n",
       "      <td>0.0</td>\n",
       "      <td>0.0</td>\n",
       "      <td>0.0</td>\n",
       "    </tr>\n",
       "    <tr>\n",
       "      <th>1747</th>\n",
       "      <td>Rain</td>\n",
       "      <td>1.0</td>\n",
       "      <td>0.0</td>\n",
       "      <td>0.0</td>\n",
       "      <td>0.0</td>\n",
       "      <td>0.0</td>\n",
       "      <td>0.0</td>\n",
       "      <td>0.0</td>\n",
       "      <td>0.0</td>\n",
       "      <td>0.0</td>\n",
       "      <td>0.0</td>\n",
       "    </tr>\n",
       "    <tr>\n",
       "      <th>1618</th>\n",
       "      <td>No event</td>\n",
       "      <td>0.0</td>\n",
       "      <td>0.0</td>\n",
       "      <td>0.0</td>\n",
       "      <td>0.0</td>\n",
       "      <td>0.0</td>\n",
       "      <td>0.0</td>\n",
       "      <td>0.0</td>\n",
       "      <td>0.0</td>\n",
       "      <td>0.0</td>\n",
       "      <td>0.0</td>\n",
       "    </tr>\n",
       "    <tr>\n",
       "      <th>819</th>\n",
       "      <td>No event</td>\n",
       "      <td>0.0</td>\n",
       "      <td>0.0</td>\n",
       "      <td>0.0</td>\n",
       "      <td>0.0</td>\n",
       "      <td>0.0</td>\n",
       "      <td>0.0</td>\n",
       "      <td>0.0</td>\n",
       "      <td>0.0</td>\n",
       "      <td>0.0</td>\n",
       "      <td>0.0</td>\n",
       "    </tr>\n",
       "    <tr>\n",
       "      <th>100</th>\n",
       "      <td>Rain</td>\n",
       "      <td>1.0</td>\n",
       "      <td>0.0</td>\n",
       "      <td>0.0</td>\n",
       "      <td>0.0</td>\n",
       "      <td>0.0</td>\n",
       "      <td>0.0</td>\n",
       "      <td>0.0</td>\n",
       "      <td>0.0</td>\n",
       "      <td>0.0</td>\n",
       "      <td>0.0</td>\n",
       "    </tr>\n",
       "    <tr>\n",
       "      <th>3212</th>\n",
       "      <td>No event</td>\n",
       "      <td>0.0</td>\n",
       "      <td>0.0</td>\n",
       "      <td>0.0</td>\n",
       "      <td>0.0</td>\n",
       "      <td>0.0</td>\n",
       "      <td>0.0</td>\n",
       "      <td>0.0</td>\n",
       "      <td>0.0</td>\n",
       "      <td>0.0</td>\n",
       "      <td>0.0</td>\n",
       "    </tr>\n",
       "    <tr>\n",
       "      <th>3375</th>\n",
       "      <td>No event</td>\n",
       "      <td>0.0</td>\n",
       "      <td>0.0</td>\n",
       "      <td>0.0</td>\n",
       "      <td>0.0</td>\n",
       "      <td>0.0</td>\n",
       "      <td>0.0</td>\n",
       "      <td>0.0</td>\n",
       "      <td>0.0</td>\n",
       "      <td>0.0</td>\n",
       "      <td>0.0</td>\n",
       "    </tr>\n",
       "    <tr>\n",
       "      <th>3028</th>\n",
       "      <td>No event</td>\n",
       "      <td>0.0</td>\n",
       "      <td>0.0</td>\n",
       "      <td>0.0</td>\n",
       "      <td>0.0</td>\n",
       "      <td>0.0</td>\n",
       "      <td>0.0</td>\n",
       "      <td>0.0</td>\n",
       "      <td>0.0</td>\n",
       "      <td>0.0</td>\n",
       "      <td>0.0</td>\n",
       "    </tr>\n",
       "    <tr>\n",
       "      <th>3317</th>\n",
       "      <td>No event</td>\n",
       "      <td>0.0</td>\n",
       "      <td>0.0</td>\n",
       "      <td>0.0</td>\n",
       "      <td>0.0</td>\n",
       "      <td>0.0</td>\n",
       "      <td>0.0</td>\n",
       "      <td>0.0</td>\n",
       "      <td>0.0</td>\n",
       "      <td>0.0</td>\n",
       "      <td>0.0</td>\n",
       "    </tr>\n",
       "  </tbody>\n",
       "</table>\n",
       "<p>1207 rows × 11 columns</p>\n",
       "</div>"
      ],
      "text/plain": [
       "                          events  Rain  Fog  Thunderstorm  Snow  Hail  \\\n",
       "1313                    No event   0.0  0.0           0.0   0.0   0.0   \n",
       "1674         Rain , Thunderstorm   1.0  0.0           1.0   0.0   0.0   \n",
       "229                          Fog   0.0  1.0           0.0   0.0   0.0   \n",
       "3510                    No event   0.0  0.0           0.0   0.0   0.0   \n",
       "2222                        Rain   1.0  0.0           0.0   0.0   0.0   \n",
       "807                     No event   0.0  0.0           0.0   0.0   0.0   \n",
       "761                     No event   0.0  0.0           0.0   0.0   0.0   \n",
       "2656                    No event   0.0  0.0           0.0   0.0   0.0   \n",
       "736                     No event   0.0  0.0           0.0   0.0   0.0   \n",
       "2972                        Rain   1.0  0.0           0.0   0.0   0.0   \n",
       "1786                 Rain , Snow   1.0  0.0           0.0   1.0   0.0   \n",
       "3177                    No event   0.0  0.0           0.0   0.0   0.0   \n",
       "1872                    No event   0.0  0.0           0.0   0.0   0.0   \n",
       "32                      No event   0.0  0.0           0.0   0.0   0.0   \n",
       "2798         Rain , Thunderstorm   1.0  0.0           1.0   0.0   0.0   \n",
       "1436                        Rain   1.0  0.0           0.0   0.0   0.0   \n",
       "2973                    No event   0.0  0.0           0.0   0.0   0.0   \n",
       "1867                    No event   0.0  0.0           0.0   0.0   0.0   \n",
       "2740                    No event   0.0  0.0           0.0   0.0   0.0   \n",
       "3033                    No event   0.0  0.0           0.0   0.0   0.0   \n",
       "790                     No event   0.0  0.0           0.0   0.0   0.0   \n",
       "3297                    No event   0.0  0.0           0.0   0.0   0.0   \n",
       "3654                         Fog   0.0  1.0           0.0   0.0   0.0   \n",
       "3605                    No event   0.0  0.0           0.0   0.0   0.0   \n",
       "1532                    No event   0.0  0.0           0.0   0.0   0.0   \n",
       "2254                        Snow   0.0  0.0           0.0   1.0   0.0   \n",
       "443                     No event   0.0  0.0           0.0   0.0   0.0   \n",
       "2348                        Rain   1.0  0.0           0.0   0.0   0.0   \n",
       "402                     No event   0.0  0.0           0.0   0.0   0.0   \n",
       "93                          Rain   1.0  0.0           0.0   0.0   0.0   \n",
       "...                          ...   ...  ...           ...   ...   ...   \n",
       "212                         Rain   1.0  0.0           0.0   0.0   0.0   \n",
       "1036                    No event   0.0  0.0           0.0   0.0   0.0   \n",
       "3535                        Rain   1.0  0.0           0.0   0.0   0.0   \n",
       "900   Rain , Hail , Thunderstorm   1.0  0.0           1.0   0.0   1.0   \n",
       "1446                    No event   0.0  0.0           0.0   0.0   0.0   \n",
       "2416                    No event   0.0  0.0           0.0   0.0   0.0   \n",
       "741                     No event   0.0  0.0           0.0   0.0   0.0   \n",
       "3210                    No event   0.0  0.0           0.0   0.0   0.0   \n",
       "2833                    No event   0.0  0.0           0.0   0.0   0.0   \n",
       "2571                    No event   0.0  0.0           0.0   0.0   0.0   \n",
       "509                         Rain   1.0  0.0           0.0   0.0   0.0   \n",
       "597                         Rain   1.0  0.0           0.0   0.0   0.0   \n",
       "1545                    No event   0.0  0.0           0.0   0.0   0.0   \n",
       "981                         Rain   1.0  0.0           0.0   0.0   0.0   \n",
       "1237                    No event   0.0  0.0           0.0   0.0   0.0   \n",
       "3215                    No event   0.0  0.0           0.0   0.0   0.0   \n",
       "518                         Rain   1.0  0.0           0.0   0.0   0.0   \n",
       "2024                    No event   0.0  0.0           0.0   0.0   0.0   \n",
       "767                     No event   0.0  0.0           0.0   0.0   0.0   \n",
       "2420                    No event   0.0  0.0           0.0   0.0   0.0   \n",
       "421                     No event   0.0  0.0           0.0   0.0   0.0   \n",
       "123                     No event   0.0  0.0           0.0   0.0   0.0   \n",
       "1747                        Rain   1.0  0.0           0.0   0.0   0.0   \n",
       "1618                    No event   0.0  0.0           0.0   0.0   0.0   \n",
       "819                     No event   0.0  0.0           0.0   0.0   0.0   \n",
       "100                         Rain   1.0  0.0           0.0   0.0   0.0   \n",
       "3212                    No event   0.0  0.0           0.0   0.0   0.0   \n",
       "3375                    No event   0.0  0.0           0.0   0.0   0.0   \n",
       "3028                    No event   0.0  0.0           0.0   0.0   0.0   \n",
       "3317                    No event   0.0  0.0           0.0   0.0   0.0   \n",
       "\n",
       "      RainPredict  FogPredict  ThunderstormPredict  SnowPredict  HailPredict  \n",
       "1313          1.0         0.0                  0.0          0.0          0.0  \n",
       "1674          1.0         0.0                  0.0          0.0          0.0  \n",
       "229           0.0         1.0                  0.0          0.0          0.0  \n",
       "3510          0.0         0.0                  0.0          0.0          0.0  \n",
       "2222          0.0         0.0                  0.0          0.0          0.0  \n",
       "807           0.0         0.0                  0.0          0.0          0.0  \n",
       "761           0.0         0.0                  0.0          0.0          0.0  \n",
       "2656          0.0         0.0                  0.0          0.0          0.0  \n",
       "736           0.0         0.0                  0.0          0.0          0.0  \n",
       "2972          1.0         0.0                  0.0          0.0          0.0  \n",
       "1786          1.0         0.0                  0.0          0.0          0.0  \n",
       "3177          0.0         0.0                  0.0          0.0          0.0  \n",
       "1872          0.0         0.0                  0.0          0.0          0.0  \n",
       "32            0.0         0.0                  0.0          0.0          0.0  \n",
       "2798          1.0         0.0                  0.0          0.0          0.0  \n",
       "1436          1.0         0.0                  0.0          0.0          0.0  \n",
       "2973          0.0         0.0                  0.0          0.0          0.0  \n",
       "1867          0.0         0.0                  0.0          0.0          0.0  \n",
       "2740          0.0         0.0                  0.0          0.0          0.0  \n",
       "3033          0.0         0.0                  0.0          0.0          0.0  \n",
       "790           0.0         0.0                  0.0          0.0          0.0  \n",
       "3297          0.0         0.0                  0.0          0.0          0.0  \n",
       "3654          0.0         1.0                  0.0          0.0          0.0  \n",
       "3605          0.0         0.0                  0.0          0.0          0.0  \n",
       "1532          0.0         0.0                  0.0          0.0          0.0  \n",
       "2254          0.0         0.0                  0.0          1.0          0.0  \n",
       "443           0.0         0.0                  0.0          0.0          0.0  \n",
       "2348          1.0         0.0                  0.0          0.0          0.0  \n",
       "402           0.0         0.0                  0.0          0.0          0.0  \n",
       "93            1.0         0.0                  0.0          0.0          0.0  \n",
       "...           ...         ...                  ...          ...          ...  \n",
       "212           1.0         0.0                  0.0          0.0          0.0  \n",
       "1036          0.0         0.0                  0.0          0.0          0.0  \n",
       "3535          0.0         0.0                  0.0          0.0          0.0  \n",
       "900           0.0         0.0                  0.0          0.0          0.0  \n",
       "1446          0.0         0.0                  0.0          0.0          0.0  \n",
       "2416          0.0         0.0                  0.0          0.0          0.0  \n",
       "741           0.0         0.0                  0.0          0.0          0.0  \n",
       "3210          0.0         0.0                  0.0          0.0          0.0  \n",
       "2833          0.0         0.0                  0.0          0.0          0.0  \n",
       "2571          0.0         0.0                  0.0          0.0          0.0  \n",
       "509           1.0         0.0                  0.0          0.0          0.0  \n",
       "597           1.0         0.0                  0.0          0.0          0.0  \n",
       "1545          0.0         0.0                  0.0          0.0          0.0  \n",
       "981           1.0         0.0                  0.0          0.0          0.0  \n",
       "1237          0.0         0.0                  0.0          0.0          0.0  \n",
       "3215          0.0         0.0                  0.0          0.0          0.0  \n",
       "518           1.0         0.0                  0.0          0.0          0.0  \n",
       "2024          0.0         0.0                  0.0          0.0          0.0  \n",
       "767           0.0         0.0                  0.0          0.0          0.0  \n",
       "2420          0.0         0.0                  0.0          0.0          0.0  \n",
       "421           0.0         0.0                  0.0          0.0          0.0  \n",
       "123           0.0         0.0                  0.0          0.0          0.0  \n",
       "1747          0.0         0.0                  0.0          0.0          0.0  \n",
       "1618          0.0         0.0                  0.0          0.0          0.0  \n",
       "819           0.0         0.0                  0.0          0.0          0.0  \n",
       "100           0.0         0.0                  0.0          0.0          0.0  \n",
       "3212          0.0         0.0                  0.0          0.0          0.0  \n",
       "3375          0.0         0.0                  0.0          0.0          0.0  \n",
       "3028          0.0         0.0                  0.0          0.0          0.0  \n",
       "3317          0.0         0.0                  0.0          0.0          0.0  \n",
       "\n",
       "[1207 rows x 11 columns]"
      ]
     },
     "execution_count": 31,
     "metadata": {},
     "output_type": "execute_result"
    }
   ],
   "source": [
    "y_test"
   ]
  },
  {
   "cell_type": "markdown",
   "metadata": {
    "slideshow": {
     "slide_type": "slide"
    }
   },
   "source": [
    "# Klasyfikacja miasta za pomocą knn"
   ]
  },
  {
   "cell_type": "markdown",
   "metadata": {
    "slideshow": {
     "slide_type": "-"
    }
   },
   "source": [
    "Spróbujmy za podstawie obserwacji odgadnąć, jakie miasto klasyfikujemy. Dla przykładu wykorzystajmy algorytm k najbliższych sąsiadów."
   ]
  },
  {
   "cell_type": "markdown",
   "metadata": {
    "slideshow": {
     "slide_type": "slide"
    }
   },
   "source": [
    "## Podział na zbiór uczący i testowy."
   ]
  },
  {
   "cell_type": "code",
   "execution_count": 32,
   "metadata": {
    "slideshow": {
     "slide_type": "-"
    }
   },
   "outputs": [
    {
     "data": {
      "text/plain": [
       "[(2448, 19), (1207, 19), (2448,), (1207,)]"
      ]
     },
     "execution_count": 32,
     "metadata": {},
     "output_type": "execute_result"
    }
   ],
   "source": [
    "X_train, X_test, y_train, y_test = train_test_split(\n",
    "     dane.iloc[:, 5:24], dane.iloc[:, 0], test_size=0.33, random_state=42)\n",
    "\n",
    "[i.shape for i in [X_train, X_test, y_train, y_test]]"
   ]
  },
  {
   "cell_type": "markdown",
   "metadata": {
    "slideshow": {
     "slide_type": "slide"
    }
   },
   "source": [
    "## Klasyfikacja"
   ]
  },
  {
   "cell_type": "code",
   "execution_count": 33,
   "metadata": {
    "slideshow": {
     "slide_type": "-"
    }
   },
   "outputs": [
    {
     "name": "stdout",
     "output_type": "stream",
     "text": [
      "['Mumbai' 'Beijing' 'Auckland' ... 'San Diego' 'San Diego' 'San Diego']\n",
      "0.9428334714167357\n"
     ]
    }
   ],
   "source": [
    "knn = KNeighborsClassifier(n_neighbors=3)\n",
    "knn.fit(X_train, y_train) \n",
    "print(knn.predict(X_test))\n",
    "print(knn.score(X_test, y_test))"
   ]
  },
  {
   "cell_type": "markdown",
   "metadata": {
    "slideshow": {
     "slide_type": "-"
    }
   },
   "source": [
    "Widzimy bardzo wysoką skuteczność klasyfikacji. Mogliśmy się tego spodziewać obserwując różnice dla miast na wykresach i w testach statystycznych."
   ]
  },
  {
   "cell_type": "markdown",
   "metadata": {
    "slideshow": {
     "slide_type": "slide"
    }
   },
   "source": [
    "A teraz sprawdźmy, czy usunięcie obs. odstających podniesie skuteczność klasyfikacji. W tym celu wygenerujmy z tym samym ziarnem losowym zbiory testowe i uczące, dopasujmy model i obliczmy skuteczność."
   ]
  },
  {
   "cell_type": "code",
   "execution_count": 34,
   "metadata": {
    "slideshow": {
     "slide_type": "slide"
    }
   },
   "outputs": [
    {
     "data": {
      "text/plain": [
       "[(2154, 19), (1062, 19), (2154,), (1062,)]"
      ]
     },
     "execution_count": 34,
     "metadata": {},
     "output_type": "execute_result"
    }
   ],
   "source": [
    "X_train, X_test, y_train, y_test = train_test_split(\n",
    "     dane2.iloc[:, 5:24], dane2.iloc[:, 0], test_size=0.33, random_state=42)\n",
    "\n",
    "[i.shape for i in [X_train, X_test, y_train, y_test]]"
   ]
  },
  {
   "cell_type": "code",
   "execution_count": 35,
   "metadata": {
    "slideshow": {
     "slide_type": "-"
    }
   },
   "outputs": [
    {
     "name": "stdout",
     "output_type": "stream",
     "text": [
      "['Mumbai' 'Auckland' 'San Diego' ... 'Mumbai' 'San Diego' 'Chicago']\n",
      "0.9444444444444444\n"
     ]
    }
   ],
   "source": [
    "knn = KNeighborsClassifier(n_neighbors=3)\n",
    "knn.fit(X_train, y_train) \n",
    "print(knn.predict(X_test))\n",
    "print(knn.score(X_test, y_test))"
   ]
  },
  {
   "cell_type": "markdown",
   "metadata": {
    "slideshow": {
     "slide_type": "-"
    }
   },
   "source": [
    "Widzimy, że jakość klasyfikacji nieznacznie wzrosła. Musimy też pamiętać, że tu model był uczony na mniejszej liczbie obserwacji."
   ]
  }
 ],
 "metadata": {
  "celltoolbar": "Slideshow",
  "kernelspec": {
   "display_name": "Python 3",
   "language": "python",
   "name": "python3"
  },
  "language_info": {
   "codemirror_mode": {
    "name": "ipython",
    "version": 3
   },
   "file_extension": ".py",
   "mimetype": "text/x-python",
   "name": "python",
   "nbconvert_exporter": "python",
   "pygments_lexer": "ipython3",
   "version": "3.6.0"
  }
 },
 "nbformat": 4,
 "nbformat_minor": 2
}
